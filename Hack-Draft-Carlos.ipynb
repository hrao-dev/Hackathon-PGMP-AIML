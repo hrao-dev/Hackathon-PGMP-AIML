{
 "cells": [
  {
   "attachments": {
    "image.png": {
     "image/png": "[encoded data removed]"
    }
   },
   "cell_type": "markdown",
   "metadata": {},
   "source": [
    "### Project - Predicting heart rate to monitor stress level\n",
    "\n",
    "#### Domain:\n",
    "Healthcare\n",
    "\n",
    "#### Business Context:\n",
    "Anxiety and stress make your heart work harder. When you’re under stress your body’s “fight or flight” response is triggered i.e. your body tenses, your blood pressure rises and your heart beats faster. Stress hormones may damage the lining of the arteries. In the current scenario post-covid, since most of us are indoors, stress levels are at an all time high due to increasing anxieties which is leading to a higher heart rate. And your body's response to stress may be a headache, back strain, or stomach pains. Stress can also zap your energy, wreak havoc on your sleep and make you feel cranky, forgetful and out of control.\n",
    "\n",
    "Higher heart rate is not always better since pathological conditions can lead to an increased heart rate. Tachycardia refers to a fast resting heart rate, usually over 100 beats per minute. Tachycardia can be dangerous, depending on its underlying cause and on how hard the heart has to work. \n",
    "\n",
    "An optimal level of heart rate is associated with health and self-regulatory capacity, and adaptability or resilience. Higher levels of resting vagally-mediated heart rate are linked to performance of executive functions like attention and emotional processing by the prefrontal cortex.\n",
    "\n",
    "Higher heart rates are usually connected with higher stress levels. When stress is excessive, it can contribute to everything from high blood pressure, also called hypertension, to asthma to ulcers to irritable bowel syndrome\n",
    "\n",
    "Stress may affect behaviors and factors that increase heart disease risk: high blood pressure and cholesterol levels, smoking, physical inactivity and overeating. Some people may choose to drink too much alcohol or smoke cigarettes to “manage” their chronic stress, however these habits can increase blood pressure and may damage artery walls.\n",
    " \n",
    "Thus, heart rate can be used to monitor your stress levels and keep it under check as it is a useful indicator of good health.\n",
    "A recent study speaks about effects of stress on increased heart attacks amongst 30-40 year olds:\n",
    "\n",
    "https://economictimes.indiatimes.com/magazines/panache/heart-attacks-on-the-rise-among-30-40-year-olds-diabetes-hypertension-are-contributing-factors/articleshow/66997025.cms\n",
    "\n",
    "\n",
    "\n",
    "#### Data Description:\n",
    "The data comprises various attributes taken from signals measured using ECG recorded for different individuals having different heart rates at the time the measurement was taken. These various features contribute to the heart rate at the given instant of time for the individual.\n",
    " \n",
    "You have been provided with a total of 7 CSV files with the names as follows:\n",
    "time_domain_features_train.csv - This file contains all time domain features of heart rate for training data\n",
    "frequency_domain_features_train.csv - This file  contains all frequency domain features of heart rate for training data\n",
    "heart_rate_non_linear_features_train.csv - This file contains all non linear features of heart rate for training data\n",
    "time_domain_features_test.csv -  This file contains all time domain features of heart rate for testing data\n",
    "frequency_domain_features_test.csv -  This file  contains all frequency domain features of heart rate for testing data\n",
    "heart_rate_non_linear_features_test.csv - This file contains all non linear features of heart rate for testing data\n",
    "sample_submission.csv - This file contains the format in which you need to make submissions to the portal\n",
    "\n",
    "Following is the data dictionary for the features you will come across in the files mentioned:\n",
    "\n",
    "##### Attribute Information:\n",
    "MEAN_RR - Mean of RR intervals\n",
    "MEDIAN_RR - Median of RR intervals\n",
    "SDRR - Standard deviation of RR intervals\n",
    "RMSSD - Root mean square of successive RR interval differences\n",
    "SDSD - Standard deviation of successive RR interval differences\n",
    "SDRR_RMSSD - Ratio of SDRR / RMSSD\n",
    "pNN25 - Percentage of successive RR intervals that differ by more than 25 ms\n",
    "pNN50 - Percentage of successive RR intervals that differ by more than 50 ms\n",
    "KURT - Kurtosis of distribution of successive RR intervals\n",
    "SKEW - Skew of distribution of successive RR intervals\n",
    "MEAN_REL_RR - Mean of relative RR intervals\n",
    "MEDIAN_REL_RR - Median of relative RR intervals\n",
    "SDRR_REL_RR - Standard deviation of relative RR intervals\n",
    "RMSSD_REL_RR - Root mean square of successive relative RR interval differences\n",
    "SDSD_REL_RR - Standard deviation of successive relative RR interval differences\n",
    "SDRR_RMSSD_REL_RR - Ratio of SDRR/RMSSD for relative RR interval differences\n",
    "KURT_REL_RR - Kurtosis of distribution of relative RR intervals\n",
    "SKEW_REL_RR - Skewness of distribution of relative RR intervals\n",
    "uuid - Unique ID for each patient\n",
    "VLF - Absolute power of the very low frequency band (0.0033 - 0.04 Hz)\n",
    "VLF_PCT - Principal component transform of VLF\n",
    "LF - Absolute power of the low frequency band (0.04 - 0.15 Hz)\n",
    "LF_PCT - Principal component transform of LF\n",
    "LF_NU  - Absolute power of the low frequency band in normal units\n",
    "HF - Absolute power of the high frequency band (0.15 - 0.4 Hz)\n",
    "HF_PCT - Principal component transform of HF\n",
    "HF_NU - Absolute power of the highest frequency band in normal units\n",
    "TP - Total power of RR intervals\n",
    "LF_HF - Ratio of LF to HF\n",
    "HF_LF - Ratio of HF to LF\n",
    "SD1 - Poincaré plot standard deviation perpendicular to the line of identity\n",
    "SD2 - Poincaré plot standard deviation along the line of identity\n",
    "Sampen - sample entropy which measures the regularity and complexity of a time series\n",
    "higuci - higuci fractal dimension of heartrate\n",
    "datasetId - ID of the whole dataset\n",
    "condition - condition of the patient at the time the data was recorded\n",
    "HR - Heart rate of the patient at the time of data recorded\n",
    " \n",
    "\n",
    "#### Objective:\n",
    "The objective is to build a regressor model which can predict the heart rate of an individual. This prediction can help to monitor stress levels of the individual.\n",
    "\n",
    "#### Evaluation Metric:\n",
    "Mean Absolute Error :\n",
    "\n",
    "![image.png](attachment:image.png)\n",
    "\n",
    "n - total number of predicted samples, xi predicted output, x actual output\n"
   ]
  },
  {
   "cell_type": "markdown",
   "metadata": {},
   "source": [
    "#### Import the necessary packages"
   ]
  },
  {
   "cell_type": "code",
   "execution_count": 1,
   "metadata": {
    "ExecuteTime": {
     "end_time": "2020-12-09T19:16:39.161245Z",
     "start_time": "2020-12-09T19:16:37.604248Z"
    }
   },
   "outputs": [],
   "source": [
    "#Load Libraries\n",
    "import pandas as pd\n",
    "import numpy as np\n",
    "import seaborn as sns\n",
    "import datetime\n",
    "import matplotlib.pyplot as plt\n",
    "%matplotlib inline"
   ]
  },
  {
   "cell_type": "code",
   "execution_count": 2,
   "metadata": {
    "ExecuteTime": {
     "end_time": "2020-12-09T19:16:39.178248Z",
     "start_time": "2020-12-09T19:16:39.165249Z"
    }
   },
   "outputs": [],
   "source": [
    "import warnings\n",
    "warnings.filterwarnings('ignore')"
   ]
  },
  {
   "cell_type": "markdown",
   "metadata": {},
   "source": [
    "#### Read the dataset into dataframes"
   ]
  },
  {
   "cell_type": "code",
   "execution_count": 3,
   "metadata": {
    "ExecuteTime": {
     "end_time": "2020-12-09T19:16:41.547248Z",
     "start_time": "2020-12-09T19:16:39.189248Z"
    },
    "scrolled": true
   },
   "outputs": [
    {
     "data": {
      "text/html": [
       "<div>\n",
       "<style scoped>\n",
       "    .dataframe tbody tr th:only-of-type {\n",
       "        vertical-align: middle;\n",
       "    }\n",
       "\n",
       "    .dataframe tbody tr th {\n",
       "        vertical-align: top;\n",
       "    }\n",
       "\n",
       "    .dataframe thead th {\n",
       "        text-align: right;\n",
       "    }\n",
       "</style>\n",
       "<table border=\"1\" class=\"dataframe\">\n",
       "  <thead>\n",
       "    <tr style=\"text-align: right;\">\n",
       "      <th></th>\n",
       "      <th>MEAN_RR</th>\n",
       "      <th>MEDIAN_RR</th>\n",
       "      <th>SDRR</th>\n",
       "      <th>RMSSD</th>\n",
       "      <th>SDSD</th>\n",
       "      <th>SDRR_RMSSD</th>\n",
       "      <th>HR</th>\n",
       "      <th>pNN25</th>\n",
       "      <th>pNN50</th>\n",
       "      <th>KURT</th>\n",
       "      <th>SKEW</th>\n",
       "      <th>MEAN_REL_RR</th>\n",
       "      <th>MEDIAN_REL_RR</th>\n",
       "      <th>SDRR_REL_RR</th>\n",
       "      <th>RMSSD_REL_RR</th>\n",
       "      <th>SDSD_REL_RR</th>\n",
       "      <th>SDRR_RMSSD_REL_RR</th>\n",
       "      <th>KURT_REL_RR</th>\n",
       "      <th>SKEW_REL_RR</th>\n",
       "      <th>uuid</th>\n",
       "    </tr>\n",
       "  </thead>\n",
       "  <tbody>\n",
       "    <tr>\n",
       "      <th>0</th>\n",
       "      <td>885.157845</td>\n",
       "      <td>853.763730</td>\n",
       "      <td>140.972741</td>\n",
       "      <td>15.554505</td>\n",
       "      <td>15.553371</td>\n",
       "      <td>9.063146</td>\n",
       "      <td>69.499952</td>\n",
       "      <td>11.133333</td>\n",
       "      <td>0.533333</td>\n",
       "      <td>-0.856554</td>\n",
       "      <td>0.335218</td>\n",
       "      <td>-0.000203</td>\n",
       "      <td>-0.000179</td>\n",
       "      <td>0.017080</td>\n",
       "      <td>0.007969</td>\n",
       "      <td>0.007969</td>\n",
       "      <td>2.143342</td>\n",
       "      <td>-0.856554</td>\n",
       "      <td>0.335218</td>\n",
       "      <td>89df2855-56eb-4706-a23b-b39363dd605a</td>\n",
       "    </tr>\n",
       "    <tr>\n",
       "      <th>1</th>\n",
       "      <td>939.425371</td>\n",
       "      <td>948.357865</td>\n",
       "      <td>81.317742</td>\n",
       "      <td>12.964439</td>\n",
       "      <td>12.964195</td>\n",
       "      <td>6.272369</td>\n",
       "      <td>64.363150</td>\n",
       "      <td>5.600000</td>\n",
       "      <td>0.000000</td>\n",
       "      <td>-0.408190</td>\n",
       "      <td>-0.155286</td>\n",
       "      <td>-0.000059</td>\n",
       "      <td>0.000611</td>\n",
       "      <td>0.013978</td>\n",
       "      <td>0.004769</td>\n",
       "      <td>0.004769</td>\n",
       "      <td>2.930855</td>\n",
       "      <td>-0.408190</td>\n",
       "      <td>-0.155286</td>\n",
       "      <td>80c795e4-aa56-4cc0-939c-19634b89cbb2</td>\n",
       "    </tr>\n",
       "    <tr>\n",
       "      <th>2</th>\n",
       "      <td>898.186047</td>\n",
       "      <td>907.006860</td>\n",
       "      <td>84.497236</td>\n",
       "      <td>16.305279</td>\n",
       "      <td>16.305274</td>\n",
       "      <td>5.182201</td>\n",
       "      <td>67.450066</td>\n",
       "      <td>13.066667</td>\n",
       "      <td>0.200000</td>\n",
       "      <td>0.351789</td>\n",
       "      <td>-0.656813</td>\n",
       "      <td>-0.000011</td>\n",
       "      <td>-0.000263</td>\n",
       "      <td>0.018539</td>\n",
       "      <td>0.008716</td>\n",
       "      <td>0.008716</td>\n",
       "      <td>2.127053</td>\n",
       "      <td>0.351789</td>\n",
       "      <td>-0.656813</td>\n",
       "      <td>c2d5d102-967c-487d-88f2-8b005a449f3e</td>\n",
       "    </tr>\n",
       "    <tr>\n",
       "      <th>3</th>\n",
       "      <td>881.757865</td>\n",
       "      <td>893.460030</td>\n",
       "      <td>90.370537</td>\n",
       "      <td>15.720468</td>\n",
       "      <td>15.720068</td>\n",
       "      <td>5.748591</td>\n",
       "      <td>68.809562</td>\n",
       "      <td>11.800000</td>\n",
       "      <td>0.133333</td>\n",
       "      <td>-0.504947</td>\n",
       "      <td>-0.386138</td>\n",
       "      <td>0.000112</td>\n",
       "      <td>0.000494</td>\n",
       "      <td>0.017761</td>\n",
       "      <td>0.008660</td>\n",
       "      <td>0.008660</td>\n",
       "      <td>2.050988</td>\n",
       "      <td>-0.504947</td>\n",
       "      <td>-0.386138</td>\n",
       "      <td>37eabc44-1349-4040-8896-0d113ad4811f</td>\n",
       "    </tr>\n",
       "    <tr>\n",
       "      <th>4</th>\n",
       "      <td>809.625331</td>\n",
       "      <td>811.184865</td>\n",
       "      <td>62.766242</td>\n",
       "      <td>19.213819</td>\n",
       "      <td>19.213657</td>\n",
       "      <td>3.266724</td>\n",
       "      <td>74.565728</td>\n",
       "      <td>20.200000</td>\n",
       "      <td>0.200000</td>\n",
       "      <td>-0.548408</td>\n",
       "      <td>-0.154252</td>\n",
       "      <td>-0.000100</td>\n",
       "      <td>-0.002736</td>\n",
       "      <td>0.023715</td>\n",
       "      <td>0.013055</td>\n",
       "      <td>0.013055</td>\n",
       "      <td>1.816544</td>\n",
       "      <td>-0.548408</td>\n",
       "      <td>-0.154252</td>\n",
       "      <td>aa777a6a-7aa3-4f6e-aced-70f8691dd2b7</td>\n",
       "    </tr>\n",
       "  </tbody>\n",
       "</table>\n",
       "</div>"
      ],
      "text/plain": [
       "      MEAN_RR   MEDIAN_RR        SDRR      RMSSD       SDSD  SDRR_RMSSD  \\\n",
       "0  885.157845  853.763730  140.972741  15.554505  15.553371    9.063146   \n",
       "1  939.425371  948.357865   81.317742  12.964439  12.964195    6.272369   \n",
       "2  898.186047  907.006860   84.497236  16.305279  16.305274    5.182201   \n",
       "3  881.757865  893.460030   90.370537  15.720468  15.720068    5.748591   \n",
       "4  809.625331  811.184865   62.766242  19.213819  19.213657    3.266724   \n",
       "\n",
       "          HR      pNN25     pNN50      KURT      SKEW  MEAN_REL_RR  \\\n",
       "0  69.499952  11.133333  0.533333 -0.856554  0.335218    -0.000203   \n",
       "1  64.363150   5.600000  0.000000 -0.408190 -0.155286    -0.000059   \n",
       "2  67.450066  13.066667  0.200000  0.351789 -0.656813    -0.000011   \n",
       "3  68.809562  11.800000  0.133333 -0.504947 -0.386138     0.000112   \n",
       "4  74.565728  20.200000  0.200000 -0.548408 -0.154252    -0.000100   \n",
       "\n",
       "   MEDIAN_REL_RR  SDRR_REL_RR  RMSSD_REL_RR  SDSD_REL_RR  SDRR_RMSSD_REL_RR  \\\n",
       "0      -0.000179     0.017080      0.007969     0.007969           2.143342   \n",
       "1       0.000611     0.013978      0.004769     0.004769           2.930855   \n",
       "2      -0.000263     0.018539      0.008716     0.008716           2.127053   \n",
       "3       0.000494     0.017761      0.008660     0.008660           2.050988   \n",
       "4      -0.002736     0.023715      0.013055     0.013055           1.816544   \n",
       "\n",
       "   KURT_REL_RR  SKEW_REL_RR                                  uuid  \n",
       "0    -0.856554     0.335218  89df2855-56eb-4706-a23b-b39363dd605a  \n",
       "1    -0.408190    -0.155286  80c795e4-aa56-4cc0-939c-19634b89cbb2  \n",
       "2     0.351789    -0.656813  c2d5d102-967c-487d-88f2-8b005a449f3e  \n",
       "3    -0.504947    -0.386138  37eabc44-1349-4040-8896-0d113ad4811f  \n",
       "4    -0.548408    -0.154252  aa777a6a-7aa3-4f6e-aced-70f8691dd2b7  "
      ]
     },
     "execution_count": 3,
     "metadata": {},
     "output_type": "execute_result"
    }
   ],
   "source": [
    "time_features = pd.read_csv(\"./Train Data Zip/time_domain_features_train.csv\")\n",
    "time_features.head()"
   ]
  },
  {
   "cell_type": "code",
   "execution_count": 4,
   "metadata": {
    "ExecuteTime": {
     "end_time": "2020-12-09T19:16:41.562765Z",
     "start_time": "2020-12-09T19:16:41.551767Z"
    }
   },
   "outputs": [
    {
     "data": {
      "text/plain": [
       "(369289, 20)"
      ]
     },
     "execution_count": 4,
     "metadata": {},
     "output_type": "execute_result"
    }
   ],
   "source": [
    "time_features.shape"
   ]
  },
  {
   "cell_type": "code",
   "execution_count": 5,
   "metadata": {
    "ExecuteTime": {
     "end_time": "2020-12-09T19:16:41.704282Z",
     "start_time": "2020-12-09T19:16:41.572767Z"
    }
   },
   "outputs": [
    {
     "name": "stdout",
     "output_type": "stream",
     "text": [
      "<class 'pandas.core.frame.DataFrame'>\n",
      "RangeIndex: 369289 entries, 0 to 369288\n",
      "Data columns (total 20 columns):\n",
      " #   Column             Non-Null Count   Dtype  \n",
      "---  ------             --------------   -----  \n",
      " 0   MEAN_RR            369289 non-null  float64\n",
      " 1   MEDIAN_RR          369289 non-null  float64\n",
      " 2   SDRR               369289 non-null  float64\n",
      " 3   RMSSD              369289 non-null  float64\n",
      " 4   SDSD               369289 non-null  float64\n",
      " 5   SDRR_RMSSD         369289 non-null  float64\n",
      " 6   HR                 369289 non-null  float64\n",
      " 7   pNN25              369289 non-null  float64\n",
      " 8   pNN50              369289 non-null  float64\n",
      " 9   KURT               369289 non-null  float64\n",
      " 10  SKEW               369289 non-null  float64\n",
      " 11  MEAN_REL_RR        369289 non-null  float64\n",
      " 12  MEDIAN_REL_RR      369289 non-null  float64\n",
      " 13  SDRR_REL_RR        369289 non-null  float64\n",
      " 14  RMSSD_REL_RR       369289 non-null  float64\n",
      " 15  SDSD_REL_RR        369289 non-null  float64\n",
      " 16  SDRR_RMSSD_REL_RR  369289 non-null  float64\n",
      " 17  KURT_REL_RR        369289 non-null  float64\n",
      " 18  SKEW_REL_RR        369289 non-null  float64\n",
      " 19  uuid               369289 non-null  object \n",
      "dtypes: float64(19), object(1)\n",
      "memory usage: 56.3+ MB\n"
     ]
    }
   ],
   "source": [
    "time_features.info()"
   ]
  },
  {
   "cell_type": "code",
   "execution_count": 6,
   "metadata": {
    "ExecuteTime": {
     "end_time": "2020-12-09T19:16:42.435315Z",
     "start_time": "2020-12-09T19:16:41.707283Z"
    }
   },
   "outputs": [
    {
     "data": {
      "text/html": [
       "<div>\n",
       "<style scoped>\n",
       "    .dataframe tbody tr th:only-of-type {\n",
       "        vertical-align: middle;\n",
       "    }\n",
       "\n",
       "    .dataframe tbody tr th {\n",
       "        vertical-align: top;\n",
       "    }\n",
       "\n",
       "    .dataframe thead th {\n",
       "        text-align: right;\n",
       "    }\n",
       "</style>\n",
       "<table border=\"1\" class=\"dataframe\">\n",
       "  <thead>\n",
       "    <tr style=\"text-align: right;\">\n",
       "      <th></th>\n",
       "      <th>count</th>\n",
       "      <th>mean</th>\n",
       "      <th>std</th>\n",
       "      <th>min</th>\n",
       "      <th>25%</th>\n",
       "      <th>50%</th>\n",
       "      <th>75%</th>\n",
       "      <th>max</th>\n",
       "    </tr>\n",
       "  </thead>\n",
       "  <tbody>\n",
       "    <tr>\n",
       "      <th>MEAN_RR</th>\n",
       "      <td>369289.0</td>\n",
       "      <td>846.650104</td>\n",
       "      <td>124.603984</td>\n",
       "      <td>547.492221</td>\n",
       "      <td>760.228533</td>\n",
       "      <td>8.229514e+02</td>\n",
       "      <td>924.117422</td>\n",
       "      <td>1322.016957</td>\n",
       "    </tr>\n",
       "    <tr>\n",
       "      <th>MEDIAN_RR</th>\n",
       "      <td>369289.0</td>\n",
       "      <td>841.965890</td>\n",
       "      <td>132.321005</td>\n",
       "      <td>517.293295</td>\n",
       "      <td>755.750735</td>\n",
       "      <td>8.196896e+02</td>\n",
       "      <td>916.821570</td>\n",
       "      <td>1653.122250</td>\n",
       "    </tr>\n",
       "    <tr>\n",
       "      <th>SDRR</th>\n",
       "      <td>369289.0</td>\n",
       "      <td>109.352531</td>\n",
       "      <td>77.117025</td>\n",
       "      <td>27.233947</td>\n",
       "      <td>64.205641</td>\n",
       "      <td>8.260824e+01</td>\n",
       "      <td>118.237002</td>\n",
       "      <td>563.486949</td>\n",
       "    </tr>\n",
       "    <tr>\n",
       "      <th>RMSSD</th>\n",
       "      <td>369289.0</td>\n",
       "      <td>14.977498</td>\n",
       "      <td>4.120766</td>\n",
       "      <td>5.529742</td>\n",
       "      <td>11.830959</td>\n",
       "      <td>1.441592e+01</td>\n",
       "      <td>17.927144</td>\n",
       "      <td>26.629477</td>\n",
       "    </tr>\n",
       "    <tr>\n",
       "      <th>SDSD</th>\n",
       "      <td>369289.0</td>\n",
       "      <td>14.976767</td>\n",
       "      <td>4.120768</td>\n",
       "      <td>5.529630</td>\n",
       "      <td>11.830671</td>\n",
       "      <td>1.441539e+01</td>\n",
       "      <td>17.924839</td>\n",
       "      <td>26.629392</td>\n",
       "    </tr>\n",
       "    <tr>\n",
       "      <th>SDRR_RMSSD</th>\n",
       "      <td>369289.0</td>\n",
       "      <td>7.396597</td>\n",
       "      <td>5.143834</td>\n",
       "      <td>2.660381</td>\n",
       "      <td>4.541896</td>\n",
       "      <td>5.952112e+00</td>\n",
       "      <td>7.919841</td>\n",
       "      <td>54.523950</td>\n",
       "    </tr>\n",
       "    <tr>\n",
       "      <th>HR</th>\n",
       "      <td>369289.0</td>\n",
       "      <td>73.941824</td>\n",
       "      <td>10.337453</td>\n",
       "      <td>48.737243</td>\n",
       "      <td>66.715776</td>\n",
       "      <td>7.421781e+01</td>\n",
       "      <td>80.334937</td>\n",
       "      <td>113.752309</td>\n",
       "    </tr>\n",
       "    <tr>\n",
       "      <th>pNN25</th>\n",
       "      <td>369289.0</td>\n",
       "      <td>9.841143</td>\n",
       "      <td>8.195574</td>\n",
       "      <td>0.000000</td>\n",
       "      <td>3.666667</td>\n",
       "      <td>7.600000e+00</td>\n",
       "      <td>13.333333</td>\n",
       "      <td>39.400000</td>\n",
       "    </tr>\n",
       "    <tr>\n",
       "      <th>pNN50</th>\n",
       "      <td>369289.0</td>\n",
       "      <td>0.866001</td>\n",
       "      <td>0.990189</td>\n",
       "      <td>0.000000</td>\n",
       "      <td>0.000000</td>\n",
       "      <td>4.666667e-01</td>\n",
       "      <td>1.466667</td>\n",
       "      <td>5.466667</td>\n",
       "    </tr>\n",
       "    <tr>\n",
       "      <th>KURT</th>\n",
       "      <td>369289.0</td>\n",
       "      <td>0.523235</td>\n",
       "      <td>1.790348</td>\n",
       "      <td>-1.894820</td>\n",
       "      <td>-0.352783</td>\n",
       "      <td>4.073622e-02</td>\n",
       "      <td>0.722833</td>\n",
       "      <td>64.088107</td>\n",
       "    </tr>\n",
       "    <tr>\n",
       "      <th>SKEW</th>\n",
       "      <td>369289.0</td>\n",
       "      <td>0.041628</td>\n",
       "      <td>0.699522</td>\n",
       "      <td>-2.136278</td>\n",
       "      <td>-0.359291</td>\n",
       "      <td>-6.096592e-02</td>\n",
       "      <td>0.282417</td>\n",
       "      <td>6.777800</td>\n",
       "    </tr>\n",
       "    <tr>\n",
       "      <th>MEAN_REL_RR</th>\n",
       "      <td>369289.0</td>\n",
       "      <td>-0.000002</td>\n",
       "      <td>0.000163</td>\n",
       "      <td>-0.001234</td>\n",
       "      <td>-0.000073</td>\n",
       "      <td>-9.330777e-07</td>\n",
       "      <td>0.000069</td>\n",
       "      <td>0.001244</td>\n",
       "    </tr>\n",
       "    <tr>\n",
       "      <th>MEDIAN_REL_RR</th>\n",
       "      <td>369289.0</td>\n",
       "      <td>-0.000465</td>\n",
       "      <td>0.000868</td>\n",
       "      <td>-0.004425</td>\n",
       "      <td>-0.000917</td>\n",
       "      <td>-3.116067e-04</td>\n",
       "      <td>0.000131</td>\n",
       "      <td>0.002095</td>\n",
       "    </tr>\n",
       "    <tr>\n",
       "      <th>SDRR_REL_RR</th>\n",
       "      <td>369289.0</td>\n",
       "      <td>0.018571</td>\n",
       "      <td>0.005455</td>\n",
       "      <td>0.008987</td>\n",
       "      <td>0.014261</td>\n",
       "      <td>1.731795e-02</td>\n",
       "      <td>0.021827</td>\n",
       "      <td>0.036571</td>\n",
       "    </tr>\n",
       "    <tr>\n",
       "      <th>RMSSD_REL_RR</th>\n",
       "      <td>369289.0</td>\n",
       "      <td>0.009701</td>\n",
       "      <td>0.003897</td>\n",
       "      <td>0.003220</td>\n",
       "      <td>0.006984</td>\n",
       "      <td>8.690833e-03</td>\n",
       "      <td>0.011460</td>\n",
       "      <td>0.026955</td>\n",
       "    </tr>\n",
       "    <tr>\n",
       "      <th>SDSD_REL_RR</th>\n",
       "      <td>369289.0</td>\n",
       "      <td>0.009701</td>\n",
       "      <td>0.003897</td>\n",
       "      <td>0.003220</td>\n",
       "      <td>0.006984</td>\n",
       "      <td>8.690797e-03</td>\n",
       "      <td>0.011460</td>\n",
       "      <td>0.026955</td>\n",
       "    </tr>\n",
       "    <tr>\n",
       "      <th>SDRR_RMSSD_REL_RR</th>\n",
       "      <td>369289.0</td>\n",
       "      <td>2.006817</td>\n",
       "      <td>0.375845</td>\n",
       "      <td>1.169342</td>\n",
       "      <td>1.749801</td>\n",
       "      <td>1.934416e+00</td>\n",
       "      <td>2.221232</td>\n",
       "      <td>3.724134</td>\n",
       "    </tr>\n",
       "    <tr>\n",
       "      <th>KURT_REL_RR</th>\n",
       "      <td>369289.0</td>\n",
       "      <td>0.523235</td>\n",
       "      <td>1.790348</td>\n",
       "      <td>-1.894820</td>\n",
       "      <td>-0.352783</td>\n",
       "      <td>4.073622e-02</td>\n",
       "      <td>0.722833</td>\n",
       "      <td>64.088107</td>\n",
       "    </tr>\n",
       "    <tr>\n",
       "      <th>SKEW_REL_RR</th>\n",
       "      <td>369289.0</td>\n",
       "      <td>0.041628</td>\n",
       "      <td>0.699522</td>\n",
       "      <td>-2.136278</td>\n",
       "      <td>-0.359291</td>\n",
       "      <td>-6.096592e-02</td>\n",
       "      <td>0.282417</td>\n",
       "      <td>6.777800</td>\n",
       "    </tr>\n",
       "  </tbody>\n",
       "</table>\n",
       "</div>"
      ],
      "text/plain": [
       "                      count        mean         std         min         25%  \\\n",
       "MEAN_RR            369289.0  846.650104  124.603984  547.492221  760.228533   \n",
       "MEDIAN_RR          369289.0  841.965890  132.321005  517.293295  755.750735   \n",
       "SDRR               369289.0  109.352531   77.117025   27.233947   64.205641   \n",
       "RMSSD              369289.0   14.977498    4.120766    5.529742   11.830959   \n",
       "SDSD               369289.0   14.976767    4.120768    5.529630   11.830671   \n",
       "SDRR_RMSSD         369289.0    7.396597    5.143834    2.660381    4.541896   \n",
       "HR                 369289.0   73.941824   10.337453   48.737243   66.715776   \n",
       "pNN25              369289.0    9.841143    8.195574    0.000000    3.666667   \n",
       "pNN50              369289.0    0.866001    0.990189    0.000000    0.000000   \n",
       "KURT               369289.0    0.523235    1.790348   -1.894820   -0.352783   \n",
       "SKEW               369289.0    0.041628    0.699522   -2.136278   -0.359291   \n",
       "MEAN_REL_RR        369289.0   -0.000002    0.000163   -0.001234   -0.000073   \n",
       "MEDIAN_REL_RR      369289.0   -0.000465    0.000868   -0.004425   -0.000917   \n",
       "SDRR_REL_RR        369289.0    0.018571    0.005455    0.008987    0.014261   \n",
       "RMSSD_REL_RR       369289.0    0.009701    0.003897    0.003220    0.006984   \n",
       "SDSD_REL_RR        369289.0    0.009701    0.003897    0.003220    0.006984   \n",
       "SDRR_RMSSD_REL_RR  369289.0    2.006817    0.375845    1.169342    1.749801   \n",
       "KURT_REL_RR        369289.0    0.523235    1.790348   -1.894820   -0.352783   \n",
       "SKEW_REL_RR        369289.0    0.041628    0.699522   -2.136278   -0.359291   \n",
       "\n",
       "                            50%         75%          max  \n",
       "MEAN_RR            8.229514e+02  924.117422  1322.016957  \n",
       "MEDIAN_RR          8.196896e+02  916.821570  1653.122250  \n",
       "SDRR               8.260824e+01  118.237002   563.486949  \n",
       "RMSSD              1.441592e+01   17.927144    26.629477  \n",
       "SDSD               1.441539e+01   17.924839    26.629392  \n",
       "SDRR_RMSSD         5.952112e+00    7.919841    54.523950  \n",
       "HR                 7.421781e+01   80.334937   113.752309  \n",
       "pNN25              7.600000e+00   13.333333    39.400000  \n",
       "pNN50              4.666667e-01    1.466667     5.466667  \n",
       "KURT               4.073622e-02    0.722833    64.088107  \n",
       "SKEW              -6.096592e-02    0.282417     6.777800  \n",
       "MEAN_REL_RR       -9.330777e-07    0.000069     0.001244  \n",
       "MEDIAN_REL_RR     -3.116067e-04    0.000131     0.002095  \n",
       "SDRR_REL_RR        1.731795e-02    0.021827     0.036571  \n",
       "RMSSD_REL_RR       8.690833e-03    0.011460     0.026955  \n",
       "SDSD_REL_RR        8.690797e-03    0.011460     0.026955  \n",
       "SDRR_RMSSD_REL_RR  1.934416e+00    2.221232     3.724134  \n",
       "KURT_REL_RR        4.073622e-02    0.722833    64.088107  \n",
       "SKEW_REL_RR       -6.096592e-02    0.282417     6.777800  "
      ]
     },
     "execution_count": 6,
     "metadata": {},
     "output_type": "execute_result"
    }
   ],
   "source": [
    "time_features.describe().transpose()"
   ]
  },
  {
   "cell_type": "code",
   "execution_count": 7,
   "metadata": {
    "ExecuteTime": {
     "end_time": "2020-12-09T19:16:42.483316Z",
     "start_time": "2020-12-09T19:16:42.439316Z"
    }
   },
   "outputs": [
    {
     "data": {
      "text/plain": [
       "False"
      ]
     },
     "execution_count": 7,
     "metadata": {},
     "output_type": "execute_result"
    }
   ],
   "source": [
    "# Check to see if data has any missing values\n",
    "time_features.isnull().values.any()"
   ]
  },
  {
   "cell_type": "code",
   "execution_count": 8,
   "metadata": {
    "ExecuteTime": {
     "end_time": "2020-12-09T19:16:43.950836Z",
     "start_time": "2020-12-09T19:16:42.487316Z"
    }
   },
   "outputs": [
    {
     "data": {
      "text/html": [
       "<div>\n",
       "<style scoped>\n",
       "    .dataframe tbody tr th:only-of-type {\n",
       "        vertical-align: middle;\n",
       "    }\n",
       "\n",
       "    .dataframe tbody tr th {\n",
       "        vertical-align: top;\n",
       "    }\n",
       "\n",
       "    .dataframe thead th {\n",
       "        text-align: right;\n",
       "    }\n",
       "</style>\n",
       "<table border=\"1\" class=\"dataframe\">\n",
       "  <thead>\n",
       "    <tr style=\"text-align: right;\">\n",
       "      <th></th>\n",
       "      <th>uuid</th>\n",
       "      <th>VLF</th>\n",
       "      <th>VLF_PCT</th>\n",
       "      <th>LF</th>\n",
       "      <th>LF_PCT</th>\n",
       "      <th>LF_NU</th>\n",
       "      <th>HF</th>\n",
       "      <th>HF_PCT</th>\n",
       "      <th>HF_NU</th>\n",
       "      <th>TP</th>\n",
       "      <th>LF_HF</th>\n",
       "      <th>HF_LF</th>\n",
       "    </tr>\n",
       "  </thead>\n",
       "  <tbody>\n",
       "    <tr>\n",
       "      <th>0</th>\n",
       "      <td>89df2855-56eb-4706-a23b-b39363dd605a</td>\n",
       "      <td>2661.894136</td>\n",
       "      <td>72.203287</td>\n",
       "      <td>1009.249419</td>\n",
       "      <td>27.375666</td>\n",
       "      <td>98.485263</td>\n",
       "      <td>15.522603</td>\n",
       "      <td>0.421047</td>\n",
       "      <td>1.514737</td>\n",
       "      <td>3686.666157</td>\n",
       "      <td>65.018055</td>\n",
       "      <td>0.015380</td>\n",
       "    </tr>\n",
       "    <tr>\n",
       "      <th>1</th>\n",
       "      <td>80c795e4-aa56-4cc0-939c-19634b89cbb2</td>\n",
       "      <td>2314.265450</td>\n",
       "      <td>76.975728</td>\n",
       "      <td>690.113275</td>\n",
       "      <td>22.954139</td>\n",
       "      <td>99.695397</td>\n",
       "      <td>2.108525</td>\n",
       "      <td>0.070133</td>\n",
       "      <td>0.304603</td>\n",
       "      <td>3006.487251</td>\n",
       "      <td>327.296635</td>\n",
       "      <td>0.003055</td>\n",
       "    </tr>\n",
       "    <tr>\n",
       "      <th>2</th>\n",
       "      <td>c2d5d102-967c-487d-88f2-8b005a449f3e</td>\n",
       "      <td>1373.887112</td>\n",
       "      <td>51.152225</td>\n",
       "      <td>1298.222619</td>\n",
       "      <td>48.335104</td>\n",
       "      <td>98.950472</td>\n",
       "      <td>13.769729</td>\n",
       "      <td>0.512671</td>\n",
       "      <td>1.049528</td>\n",
       "      <td>2685.879461</td>\n",
       "      <td>94.280910</td>\n",
       "      <td>0.010607</td>\n",
       "    </tr>\n",
       "    <tr>\n",
       "      <th>3</th>\n",
       "      <td>37eabc44-1349-4040-8896-0d113ad4811f</td>\n",
       "      <td>2410.357408</td>\n",
       "      <td>70.180308</td>\n",
       "      <td>1005.981659</td>\n",
       "      <td>29.290305</td>\n",
       "      <td>98.224706</td>\n",
       "      <td>18.181913</td>\n",
       "      <td>0.529387</td>\n",
       "      <td>1.775294</td>\n",
       "      <td>3434.520980</td>\n",
       "      <td>55.328701</td>\n",
       "      <td>0.018074</td>\n",
       "    </tr>\n",
       "    <tr>\n",
       "      <th>4</th>\n",
       "      <td>aa777a6a-7aa3-4f6e-aced-70f8691dd2b7</td>\n",
       "      <td>1151.177330</td>\n",
       "      <td>43.918366</td>\n",
       "      <td>1421.782051</td>\n",
       "      <td>54.242160</td>\n",
       "      <td>96.720007</td>\n",
       "      <td>48.215822</td>\n",
       "      <td>1.839473</td>\n",
       "      <td>3.279993</td>\n",
       "      <td>2621.175204</td>\n",
       "      <td>29.487873</td>\n",
       "      <td>0.033912</td>\n",
       "    </tr>\n",
       "  </tbody>\n",
       "</table>\n",
       "</div>"
      ],
      "text/plain": [
       "                                   uuid          VLF    VLF_PCT           LF  \\\n",
       "0  89df2855-56eb-4706-a23b-b39363dd605a  2661.894136  72.203287  1009.249419   \n",
       "1  80c795e4-aa56-4cc0-939c-19634b89cbb2  2314.265450  76.975728   690.113275   \n",
       "2  c2d5d102-967c-487d-88f2-8b005a449f3e  1373.887112  51.152225  1298.222619   \n",
       "3  37eabc44-1349-4040-8896-0d113ad4811f  2410.357408  70.180308  1005.981659   \n",
       "4  aa777a6a-7aa3-4f6e-aced-70f8691dd2b7  1151.177330  43.918366  1421.782051   \n",
       "\n",
       "      LF_PCT      LF_NU         HF    HF_PCT     HF_NU           TP  \\\n",
       "0  27.375666  98.485263  15.522603  0.421047  1.514737  3686.666157   \n",
       "1  22.954139  99.695397   2.108525  0.070133  0.304603  3006.487251   \n",
       "2  48.335104  98.950472  13.769729  0.512671  1.049528  2685.879461   \n",
       "3  29.290305  98.224706  18.181913  0.529387  1.775294  3434.520980   \n",
       "4  54.242160  96.720007  48.215822  1.839473  3.279993  2621.175204   \n",
       "\n",
       "        LF_HF     HF_LF  \n",
       "0   65.018055  0.015380  \n",
       "1  327.296635  0.003055  \n",
       "2   94.280910  0.010607  \n",
       "3   55.328701  0.018074  \n",
       "4   29.487873  0.033912  "
      ]
     },
     "execution_count": 8,
     "metadata": {},
     "output_type": "execute_result"
    }
   ],
   "source": [
    "frequency_features = pd.read_csv(\"./Train Data Zip/frequency_domain_features_train.csv\")\n",
    "frequency_features.head()"
   ]
  },
  {
   "cell_type": "code",
   "execution_count": 9,
   "metadata": {
    "ExecuteTime": {
     "end_time": "2020-12-09T19:16:43.965835Z",
     "start_time": "2020-12-09T19:16:43.953838Z"
    }
   },
   "outputs": [
    {
     "data": {
      "text/plain": [
       "(369289, 12)"
      ]
     },
     "execution_count": 9,
     "metadata": {},
     "output_type": "execute_result"
    }
   ],
   "source": [
    "frequency_features.shape"
   ]
  },
  {
   "cell_type": "code",
   "execution_count": 10,
   "metadata": {
    "ExecuteTime": {
     "end_time": "2020-12-09T19:16:44.043841Z",
     "start_time": "2020-12-09T19:16:43.970837Z"
    }
   },
   "outputs": [
    {
     "name": "stdout",
     "output_type": "stream",
     "text": [
      "<class 'pandas.core.frame.DataFrame'>\n",
      "RangeIndex: 369289 entries, 0 to 369288\n",
      "Data columns (total 12 columns):\n",
      " #   Column   Non-Null Count   Dtype  \n",
      "---  ------   --------------   -----  \n",
      " 0   uuid     369289 non-null  object \n",
      " 1   VLF      369289 non-null  float64\n",
      " 2   VLF_PCT  369289 non-null  float64\n",
      " 3   LF       369289 non-null  float64\n",
      " 4   LF_PCT   369289 non-null  float64\n",
      " 5   LF_NU    369289 non-null  float64\n",
      " 6   HF       369289 non-null  float64\n",
      " 7   HF_PCT   369289 non-null  float64\n",
      " 8   HF_NU    369289 non-null  float64\n",
      " 9   TP       369289 non-null  float64\n",
      " 10  LF_HF    369289 non-null  float64\n",
      " 11  HF_LF    369289 non-null  float64\n",
      "dtypes: float64(11), object(1)\n",
      "memory usage: 33.8+ MB\n"
     ]
    }
   ],
   "source": [
    "frequency_features.info()"
   ]
  },
  {
   "cell_type": "code",
   "execution_count": 11,
   "metadata": {
    "ExecuteTime": {
     "end_time": "2020-12-09T19:16:44.465839Z",
     "start_time": "2020-12-09T19:16:44.046837Z"
    }
   },
   "outputs": [
    {
     "data": {
      "text/html": [
       "<div>\n",
       "<style scoped>\n",
       "    .dataframe tbody tr th:only-of-type {\n",
       "        vertical-align: middle;\n",
       "    }\n",
       "\n",
       "    .dataframe tbody tr th {\n",
       "        vertical-align: top;\n",
       "    }\n",
       "\n",
       "    .dataframe thead th {\n",
       "        text-align: right;\n",
       "    }\n",
       "</style>\n",
       "<table border=\"1\" class=\"dataframe\">\n",
       "  <thead>\n",
       "    <tr style=\"text-align: right;\">\n",
       "      <th></th>\n",
       "      <th>count</th>\n",
       "      <th>mean</th>\n",
       "      <th>std</th>\n",
       "      <th>min</th>\n",
       "      <th>25%</th>\n",
       "      <th>50%</th>\n",
       "      <th>75%</th>\n",
       "      <th>max</th>\n",
       "    </tr>\n",
       "  </thead>\n",
       "  <tbody>\n",
       "    <tr>\n",
       "      <th>VLF</th>\n",
       "      <td>369289.0</td>\n",
       "      <td>2199.580170</td>\n",
       "      <td>1815.773422</td>\n",
       "      <td>159.480176</td>\n",
       "      <td>1001.189280</td>\n",
       "      <td>1667.903111</td>\n",
       "      <td>2654.121052</td>\n",
       "      <td>12617.977191</td>\n",
       "    </tr>\n",
       "    <tr>\n",
       "      <th>VLF_PCT</th>\n",
       "      <td>369289.0</td>\n",
       "      <td>64.289242</td>\n",
       "      <td>16.774844</td>\n",
       "      <td>19.031219</td>\n",
       "      <td>52.909877</td>\n",
       "      <td>66.350237</td>\n",
       "      <td>76.825032</td>\n",
       "      <td>97.738848</td>\n",
       "    </tr>\n",
       "    <tr>\n",
       "      <th>LF</th>\n",
       "      <td>369289.0</td>\n",
       "      <td>946.530252</td>\n",
       "      <td>574.171780</td>\n",
       "      <td>90.048557</td>\n",
       "      <td>545.449386</td>\n",
       "      <td>782.716291</td>\n",
       "      <td>1201.432256</td>\n",
       "      <td>3291.548112</td>\n",
       "    </tr>\n",
       "    <tr>\n",
       "      <th>LF_PCT</th>\n",
       "      <td>369289.0</td>\n",
       "      <td>34.095182</td>\n",
       "      <td>16.040290</td>\n",
       "      <td>2.165119</td>\n",
       "      <td>22.305936</td>\n",
       "      <td>32.047025</td>\n",
       "      <td>44.647115</td>\n",
       "      <td>77.928847</td>\n",
       "    </tr>\n",
       "    <tr>\n",
       "      <th>LF_NU</th>\n",
       "      <td>369289.0</td>\n",
       "      <td>95.566718</td>\n",
       "      <td>4.123365</td>\n",
       "      <td>69.879083</td>\n",
       "      <td>93.645734</td>\n",
       "      <td>96.643140</td>\n",
       "      <td>98.771946</td>\n",
       "      <td>99.987175</td>\n",
       "    </tr>\n",
       "    <tr>\n",
       "      <th>HF</th>\n",
       "      <td>369289.0</td>\n",
       "      <td>39.245603</td>\n",
       "      <td>45.398869</td>\n",
       "      <td>0.061783</td>\n",
       "      <td>10.720312</td>\n",
       "      <td>24.841938</td>\n",
       "      <td>45.272368</td>\n",
       "      <td>364.486936</td>\n",
       "    </tr>\n",
       "    <tr>\n",
       "      <th>HF_PCT</th>\n",
       "      <td>369289.0</td>\n",
       "      <td>1.615576</td>\n",
       "      <td>1.761073</td>\n",
       "      <td>0.002150</td>\n",
       "      <td>0.346803</td>\n",
       "      <td>1.039513</td>\n",
       "      <td>2.245115</td>\n",
       "      <td>13.095664</td>\n",
       "    </tr>\n",
       "    <tr>\n",
       "      <th>HF_NU</th>\n",
       "      <td>369289.0</td>\n",
       "      <td>4.433282</td>\n",
       "      <td>4.123365</td>\n",
       "      <td>0.012825</td>\n",
       "      <td>1.228054</td>\n",
       "      <td>3.356860</td>\n",
       "      <td>6.354266</td>\n",
       "      <td>30.120917</td>\n",
       "    </tr>\n",
       "    <tr>\n",
       "      <th>TP</th>\n",
       "      <td>369289.0</td>\n",
       "      <td>3185.356025</td>\n",
       "      <td>1923.227187</td>\n",
       "      <td>377.692795</td>\n",
       "      <td>1828.147788</td>\n",
       "      <td>2796.856587</td>\n",
       "      <td>4052.260157</td>\n",
       "      <td>13390.684098</td>\n",
       "    </tr>\n",
       "    <tr>\n",
       "      <th>LF_HF</th>\n",
       "      <td>369289.0</td>\n",
       "      <td>115.977200</td>\n",
       "      <td>360.855129</td>\n",
       "      <td>2.319952</td>\n",
       "      <td>14.737458</td>\n",
       "      <td>28.789747</td>\n",
       "      <td>80.429614</td>\n",
       "      <td>7796.443096</td>\n",
       "    </tr>\n",
       "    <tr>\n",
       "      <th>HF_LF</th>\n",
       "      <td>369289.0</td>\n",
       "      <td>0.048506</td>\n",
       "      <td>0.049238</td>\n",
       "      <td>0.000128</td>\n",
       "      <td>0.012433</td>\n",
       "      <td>0.034735</td>\n",
       "      <td>0.067854</td>\n",
       "      <td>0.431043</td>\n",
       "    </tr>\n",
       "  </tbody>\n",
       "</table>\n",
       "</div>"
      ],
      "text/plain": [
       "            count         mean          std         min          25%  \\\n",
       "VLF      369289.0  2199.580170  1815.773422  159.480176  1001.189280   \n",
       "VLF_PCT  369289.0    64.289242    16.774844   19.031219    52.909877   \n",
       "LF       369289.0   946.530252   574.171780   90.048557   545.449386   \n",
       "LF_PCT   369289.0    34.095182    16.040290    2.165119    22.305936   \n",
       "LF_NU    369289.0    95.566718     4.123365   69.879083    93.645734   \n",
       "HF       369289.0    39.245603    45.398869    0.061783    10.720312   \n",
       "HF_PCT   369289.0     1.615576     1.761073    0.002150     0.346803   \n",
       "HF_NU    369289.0     4.433282     4.123365    0.012825     1.228054   \n",
       "TP       369289.0  3185.356025  1923.227187  377.692795  1828.147788   \n",
       "LF_HF    369289.0   115.977200   360.855129    2.319952    14.737458   \n",
       "HF_LF    369289.0     0.048506     0.049238    0.000128     0.012433   \n",
       "\n",
       "                 50%          75%           max  \n",
       "VLF      1667.903111  2654.121052  12617.977191  \n",
       "VLF_PCT    66.350237    76.825032     97.738848  \n",
       "LF        782.716291  1201.432256   3291.548112  \n",
       "LF_PCT     32.047025    44.647115     77.928847  \n",
       "LF_NU      96.643140    98.771946     99.987175  \n",
       "HF         24.841938    45.272368    364.486936  \n",
       "HF_PCT      1.039513     2.245115     13.095664  \n",
       "HF_NU       3.356860     6.354266     30.120917  \n",
       "TP       2796.856587  4052.260157  13390.684098  \n",
       "LF_HF      28.789747    80.429614   7796.443096  \n",
       "HF_LF       0.034735     0.067854      0.431043  "
      ]
     },
     "execution_count": 11,
     "metadata": {},
     "output_type": "execute_result"
    }
   ],
   "source": [
    "frequency_features.describe().transpose()"
   ]
  },
  {
   "cell_type": "code",
   "execution_count": 12,
   "metadata": {
    "ExecuteTime": {
     "end_time": "2020-12-09T19:16:44.511840Z",
     "start_time": "2020-12-09T19:16:44.470838Z"
    }
   },
   "outputs": [
    {
     "data": {
      "text/plain": [
       "False"
      ]
     },
     "execution_count": 12,
     "metadata": {},
     "output_type": "execute_result"
    }
   ],
   "source": [
    "# Check to see if data has any missing values\n",
    "frequency_features.isnull().values.any()"
   ]
  },
  {
   "cell_type": "code",
   "execution_count": 13,
   "metadata": {
    "ExecuteTime": {
     "end_time": "2020-12-09T19:16:45.709838Z",
     "start_time": "2020-12-09T19:16:44.514839Z"
    }
   },
   "outputs": [
    {
     "data": {
      "text/html": [
       "<div>\n",
       "<style scoped>\n",
       "    .dataframe tbody tr th:only-of-type {\n",
       "        vertical-align: middle;\n",
       "    }\n",
       "\n",
       "    .dataframe tbody tr th {\n",
       "        vertical-align: top;\n",
       "    }\n",
       "\n",
       "    .dataframe thead th {\n",
       "        text-align: right;\n",
       "    }\n",
       "</style>\n",
       "<table border=\"1\" class=\"dataframe\">\n",
       "  <thead>\n",
       "    <tr style=\"text-align: right;\">\n",
       "      <th></th>\n",
       "      <th>uuid</th>\n",
       "      <th>SD1</th>\n",
       "      <th>SD2</th>\n",
       "      <th>sampen</th>\n",
       "      <th>higuci</th>\n",
       "      <th>datasetId</th>\n",
       "      <th>condition</th>\n",
       "    </tr>\n",
       "  </thead>\n",
       "  <tbody>\n",
       "    <tr>\n",
       "      <th>0</th>\n",
       "      <td>89df2855-56eb-4706-a23b-b39363dd605a</td>\n",
       "      <td>11.001565</td>\n",
       "      <td>199.061782</td>\n",
       "      <td>2.139754</td>\n",
       "      <td>1.163485</td>\n",
       "      <td>2</td>\n",
       "      <td>no stress</td>\n",
       "    </tr>\n",
       "    <tr>\n",
       "      <th>1</th>\n",
       "      <td>80c795e4-aa56-4cc0-939c-19634b89cbb2</td>\n",
       "      <td>9.170129</td>\n",
       "      <td>114.634458</td>\n",
       "      <td>2.174499</td>\n",
       "      <td>1.084711</td>\n",
       "      <td>2</td>\n",
       "      <td>interruption</td>\n",
       "    </tr>\n",
       "    <tr>\n",
       "      <th>2</th>\n",
       "      <td>c2d5d102-967c-487d-88f2-8b005a449f3e</td>\n",
       "      <td>11.533417</td>\n",
       "      <td>118.939253</td>\n",
       "      <td>2.135350</td>\n",
       "      <td>1.176315</td>\n",
       "      <td>2</td>\n",
       "      <td>interruption</td>\n",
       "    </tr>\n",
       "    <tr>\n",
       "      <th>3</th>\n",
       "      <td>37eabc44-1349-4040-8896-0d113ad4811f</td>\n",
       "      <td>11.119476</td>\n",
       "      <td>127.318597</td>\n",
       "      <td>2.178341</td>\n",
       "      <td>1.179688</td>\n",
       "      <td>2</td>\n",
       "      <td>no stress</td>\n",
       "    </tr>\n",
       "    <tr>\n",
       "      <th>4</th>\n",
       "      <td>aa777a6a-7aa3-4f6e-aced-70f8691dd2b7</td>\n",
       "      <td>13.590641</td>\n",
       "      <td>87.718281</td>\n",
       "      <td>2.221121</td>\n",
       "      <td>1.249612</td>\n",
       "      <td>2</td>\n",
       "      <td>no stress</td>\n",
       "    </tr>\n",
       "  </tbody>\n",
       "</table>\n",
       "</div>"
      ],
      "text/plain": [
       "                                   uuid        SD1         SD2    sampen  \\\n",
       "0  89df2855-56eb-4706-a23b-b39363dd605a  11.001565  199.061782  2.139754   \n",
       "1  80c795e4-aa56-4cc0-939c-19634b89cbb2   9.170129  114.634458  2.174499   \n",
       "2  c2d5d102-967c-487d-88f2-8b005a449f3e  11.533417  118.939253  2.135350   \n",
       "3  37eabc44-1349-4040-8896-0d113ad4811f  11.119476  127.318597  2.178341   \n",
       "4  aa777a6a-7aa3-4f6e-aced-70f8691dd2b7  13.590641   87.718281  2.221121   \n",
       "\n",
       "     higuci  datasetId     condition  \n",
       "0  1.163485          2     no stress  \n",
       "1  1.084711          2  interruption  \n",
       "2  1.176315          2  interruption  \n",
       "3  1.179688          2     no stress  \n",
       "4  1.249612          2     no stress  "
      ]
     },
     "execution_count": 13,
     "metadata": {},
     "output_type": "execute_result"
    }
   ],
   "source": [
    "non_linear_features = pd.read_csv(\"./Train Data Zip/heart_rate_non_linear_features_train.csv\")\n",
    "non_linear_features.head()"
   ]
  },
  {
   "cell_type": "code",
   "execution_count": 14,
   "metadata": {
    "ExecuteTime": {
     "end_time": "2020-12-09T19:16:45.742840Z",
     "start_time": "2020-12-09T19:16:45.729838Z"
    }
   },
   "outputs": [
    {
     "data": {
      "text/plain": [
       "(369289, 7)"
      ]
     },
     "execution_count": 14,
     "metadata": {},
     "output_type": "execute_result"
    }
   ],
   "source": [
    "non_linear_features.shape"
   ]
  },
  {
   "cell_type": "code",
   "execution_count": 15,
   "metadata": {
    "ExecuteTime": {
     "end_time": "2020-12-09T19:16:45.848838Z",
     "start_time": "2020-12-09T19:16:45.768839Z"
    }
   },
   "outputs": [
    {
     "name": "stdout",
     "output_type": "stream",
     "text": [
      "<class 'pandas.core.frame.DataFrame'>\n",
      "RangeIndex: 369289 entries, 0 to 369288\n",
      "Data columns (total 7 columns):\n",
      " #   Column     Non-Null Count   Dtype  \n",
      "---  ------     --------------   -----  \n",
      " 0   uuid       369289 non-null  object \n",
      " 1   SD1        369289 non-null  float64\n",
      " 2   SD2        369289 non-null  float64\n",
      " 3   sampen     369289 non-null  float64\n",
      " 4   higuci     369289 non-null  float64\n",
      " 5   datasetId  369289 non-null  int64  \n",
      " 6   condition  369289 non-null  object \n",
      "dtypes: float64(4), int64(1), object(2)\n",
      "memory usage: 19.7+ MB\n"
     ]
    }
   ],
   "source": [
    "non_linear_features.info()"
   ]
  },
  {
   "cell_type": "code",
   "execution_count": 16,
   "metadata": {
    "ExecuteTime": {
     "end_time": "2020-12-09T19:16:46.005837Z",
     "start_time": "2020-12-09T19:16:45.851836Z"
    }
   },
   "outputs": [
    {
     "data": {
      "text/html": [
       "<div>\n",
       "<style scoped>\n",
       "    .dataframe tbody tr th:only-of-type {\n",
       "        vertical-align: middle;\n",
       "    }\n",
       "\n",
       "    .dataframe tbody tr th {\n",
       "        vertical-align: top;\n",
       "    }\n",
       "\n",
       "    .dataframe thead th {\n",
       "        text-align: right;\n",
       "    }\n",
       "</style>\n",
       "<table border=\"1\" class=\"dataframe\">\n",
       "  <thead>\n",
       "    <tr style=\"text-align: right;\">\n",
       "      <th></th>\n",
       "      <th>count</th>\n",
       "      <th>mean</th>\n",
       "      <th>std</th>\n",
       "      <th>min</th>\n",
       "      <th>25%</th>\n",
       "      <th>50%</th>\n",
       "      <th>75%</th>\n",
       "      <th>max</th>\n",
       "    </tr>\n",
       "  </thead>\n",
       "  <tbody>\n",
       "    <tr>\n",
       "      <th>SD1</th>\n",
       "      <td>369289.0</td>\n",
       "      <td>10.593708</td>\n",
       "      <td>2.914795</td>\n",
       "      <td>3.911344</td>\n",
       "      <td>8.368340</td>\n",
       "      <td>10.196621</td>\n",
       "      <td>12.679005</td>\n",
       "      <td>18.836107</td>\n",
       "    </tr>\n",
       "    <tr>\n",
       "      <th>SD2</th>\n",
       "      <td>369289.0</td>\n",
       "      <td>154.178997</td>\n",
       "      <td>109.170222</td>\n",
       "      <td>38.307745</td>\n",
       "      <td>90.326864</td>\n",
       "      <td>116.221063</td>\n",
       "      <td>166.764850</td>\n",
       "      <td>796.852945</td>\n",
       "    </tr>\n",
       "    <tr>\n",
       "      <th>sampen</th>\n",
       "      <td>369289.0</td>\n",
       "      <td>2.062471</td>\n",
       "      <td>0.206999</td>\n",
       "      <td>0.434576</td>\n",
       "      <td>2.032977</td>\n",
       "      <td>2.134214</td>\n",
       "      <td>2.181929</td>\n",
       "      <td>2.234841</td>\n",
       "    </tr>\n",
       "    <tr>\n",
       "      <th>higuci</th>\n",
       "      <td>369289.0</td>\n",
       "      <td>1.182292</td>\n",
       "      <td>0.062192</td>\n",
       "      <td>1.033984</td>\n",
       "      <td>1.139929</td>\n",
       "      <td>1.174293</td>\n",
       "      <td>1.223621</td>\n",
       "      <td>1.361219</td>\n",
       "    </tr>\n",
       "    <tr>\n",
       "      <th>datasetId</th>\n",
       "      <td>369289.0</td>\n",
       "      <td>2.000000</td>\n",
       "      <td>0.000000</td>\n",
       "      <td>2.000000</td>\n",
       "      <td>2.000000</td>\n",
       "      <td>2.000000</td>\n",
       "      <td>2.000000</td>\n",
       "      <td>2.000000</td>\n",
       "    </tr>\n",
       "  </tbody>\n",
       "</table>\n",
       "</div>"
      ],
      "text/plain": [
       "              count        mean         std        min        25%         50%  \\\n",
       "SD1        369289.0   10.593708    2.914795   3.911344   8.368340   10.196621   \n",
       "SD2        369289.0  154.178997  109.170222  38.307745  90.326864  116.221063   \n",
       "sampen     369289.0    2.062471    0.206999   0.434576   2.032977    2.134214   \n",
       "higuci     369289.0    1.182292    0.062192   1.033984   1.139929    1.174293   \n",
       "datasetId  369289.0    2.000000    0.000000   2.000000   2.000000    2.000000   \n",
       "\n",
       "                  75%         max  \n",
       "SD1         12.679005   18.836107  \n",
       "SD2        166.764850  796.852945  \n",
       "sampen       2.181929    2.234841  \n",
       "higuci       1.223621    1.361219  \n",
       "datasetId    2.000000    2.000000  "
      ]
     },
     "execution_count": 16,
     "metadata": {},
     "output_type": "execute_result"
    }
   ],
   "source": [
    "# Check to see if data has any missing values\n",
    "non_linear_features.describe().transpose()"
   ]
  },
  {
   "cell_type": "code",
   "execution_count": 17,
   "metadata": {
    "ExecuteTime": {
     "end_time": "2020-12-09T19:16:46.067838Z",
     "start_time": "2020-12-09T19:16:46.011837Z"
    }
   },
   "outputs": [
    {
     "data": {
      "text/plain": [
       "False"
      ]
     },
     "execution_count": 17,
     "metadata": {},
     "output_type": "execute_result"
    }
   ],
   "source": [
    "non_linear_features.isnull().values.any()"
   ]
  },
  {
   "cell_type": "markdown",
   "metadata": {},
   "source": [
    "#### Observations: \n",
    "<ul>\n",
    "    <li>All the columns of the three datasets have the same number of non-null values.</li>\n",
    "       <li>No Null Values are present.</li>\n",
    "</ul>"
   ]
  },
  {
   "cell_type": "markdown",
   "metadata": {},
   "source": [
    "#### Observations from Descriptive Statistics"
   ]
  },
  {
   "cell_type": "markdown",
   "metadata": {},
   "source": [
    "For the columns 'Age', and 'Experience' the mean is almost similar to median and so we can say that both 'Age' and 'Experience' are normally distributed. \n",
    "\n",
    "    For the other three columns 'Income', 'CCAvg' and 'Mortgage' the mean is greater than median, so we can say that they are right(positively) skewed.1"
   ]
  },
  {
   "cell_type": "code",
   "execution_count": 18,
   "metadata": {
    "ExecuteTime": {
     "end_time": "2020-12-09T19:16:47.396352Z",
     "start_time": "2020-12-09T19:16:46.070843Z"
    }
   },
   "outputs": [
    {
     "data": {
      "text/html": [
       "<div>\n",
       "<style scoped>\n",
       "    .dataframe tbody tr th:only-of-type {\n",
       "        vertical-align: middle;\n",
       "    }\n",
       "\n",
       "    .dataframe tbody tr th {\n",
       "        vertical-align: top;\n",
       "    }\n",
       "\n",
       "    .dataframe thead th {\n",
       "        text-align: right;\n",
       "    }\n",
       "</style>\n",
       "<table border=\"1\" class=\"dataframe\">\n",
       "  <thead>\n",
       "    <tr style=\"text-align: right;\">\n",
       "      <th></th>\n",
       "      <th>MEAN_RR</th>\n",
       "      <th>MEDIAN_RR</th>\n",
       "      <th>SDRR</th>\n",
       "      <th>RMSSD</th>\n",
       "      <th>SDSD</th>\n",
       "      <th>SDRR_RMSSD</th>\n",
       "      <th>HR</th>\n",
       "      <th>pNN25</th>\n",
       "      <th>pNN50</th>\n",
       "      <th>KURT</th>\n",
       "      <th>...</th>\n",
       "      <th>HF_NU</th>\n",
       "      <th>TP</th>\n",
       "      <th>LF_HF</th>\n",
       "      <th>HF_LF</th>\n",
       "      <th>SD1</th>\n",
       "      <th>SD2</th>\n",
       "      <th>sampen</th>\n",
       "      <th>higuci</th>\n",
       "      <th>datasetId</th>\n",
       "      <th>condition</th>\n",
       "    </tr>\n",
       "  </thead>\n",
       "  <tbody>\n",
       "    <tr>\n",
       "      <th>0</th>\n",
       "      <td>885.157845</td>\n",
       "      <td>853.763730</td>\n",
       "      <td>140.972741</td>\n",
       "      <td>15.554505</td>\n",
       "      <td>15.553371</td>\n",
       "      <td>9.063146</td>\n",
       "      <td>69.499952</td>\n",
       "      <td>11.133333</td>\n",
       "      <td>0.533333</td>\n",
       "      <td>-0.856554</td>\n",
       "      <td>...</td>\n",
       "      <td>1.514737</td>\n",
       "      <td>3686.666157</td>\n",
       "      <td>65.018055</td>\n",
       "      <td>0.015380</td>\n",
       "      <td>11.001565</td>\n",
       "      <td>199.061782</td>\n",
       "      <td>2.139754</td>\n",
       "      <td>1.163485</td>\n",
       "      <td>2</td>\n",
       "      <td>no stress</td>\n",
       "    </tr>\n",
       "    <tr>\n",
       "      <th>1</th>\n",
       "      <td>939.425371</td>\n",
       "      <td>948.357865</td>\n",
       "      <td>81.317742</td>\n",
       "      <td>12.964439</td>\n",
       "      <td>12.964195</td>\n",
       "      <td>6.272369</td>\n",
       "      <td>64.363150</td>\n",
       "      <td>5.600000</td>\n",
       "      <td>0.000000</td>\n",
       "      <td>-0.408190</td>\n",
       "      <td>...</td>\n",
       "      <td>0.304603</td>\n",
       "      <td>3006.487251</td>\n",
       "      <td>327.296635</td>\n",
       "      <td>0.003055</td>\n",
       "      <td>9.170129</td>\n",
       "      <td>114.634458</td>\n",
       "      <td>2.174499</td>\n",
       "      <td>1.084711</td>\n",
       "      <td>2</td>\n",
       "      <td>interruption</td>\n",
       "    </tr>\n",
       "    <tr>\n",
       "      <th>2</th>\n",
       "      <td>898.186047</td>\n",
       "      <td>907.006860</td>\n",
       "      <td>84.497236</td>\n",
       "      <td>16.305279</td>\n",
       "      <td>16.305274</td>\n",
       "      <td>5.182201</td>\n",
       "      <td>67.450066</td>\n",
       "      <td>13.066667</td>\n",
       "      <td>0.200000</td>\n",
       "      <td>0.351789</td>\n",
       "      <td>...</td>\n",
       "      <td>1.049528</td>\n",
       "      <td>2685.879461</td>\n",
       "      <td>94.280910</td>\n",
       "      <td>0.010607</td>\n",
       "      <td>11.533417</td>\n",
       "      <td>118.939253</td>\n",
       "      <td>2.135350</td>\n",
       "      <td>1.176315</td>\n",
       "      <td>2</td>\n",
       "      <td>interruption</td>\n",
       "    </tr>\n",
       "    <tr>\n",
       "      <th>3</th>\n",
       "      <td>881.757865</td>\n",
       "      <td>893.460030</td>\n",
       "      <td>90.370537</td>\n",
       "      <td>15.720468</td>\n",
       "      <td>15.720068</td>\n",
       "      <td>5.748591</td>\n",
       "      <td>68.809562</td>\n",
       "      <td>11.800000</td>\n",
       "      <td>0.133333</td>\n",
       "      <td>-0.504947</td>\n",
       "      <td>...</td>\n",
       "      <td>1.775294</td>\n",
       "      <td>3434.520980</td>\n",
       "      <td>55.328701</td>\n",
       "      <td>0.018074</td>\n",
       "      <td>11.119476</td>\n",
       "      <td>127.318597</td>\n",
       "      <td>2.178341</td>\n",
       "      <td>1.179688</td>\n",
       "      <td>2</td>\n",
       "      <td>no stress</td>\n",
       "    </tr>\n",
       "    <tr>\n",
       "      <th>4</th>\n",
       "      <td>809.625331</td>\n",
       "      <td>811.184865</td>\n",
       "      <td>62.766242</td>\n",
       "      <td>19.213819</td>\n",
       "      <td>19.213657</td>\n",
       "      <td>3.266724</td>\n",
       "      <td>74.565728</td>\n",
       "      <td>20.200000</td>\n",
       "      <td>0.200000</td>\n",
       "      <td>-0.548408</td>\n",
       "      <td>...</td>\n",
       "      <td>3.279993</td>\n",
       "      <td>2621.175204</td>\n",
       "      <td>29.487873</td>\n",
       "      <td>0.033912</td>\n",
       "      <td>13.590641</td>\n",
       "      <td>87.718281</td>\n",
       "      <td>2.221121</td>\n",
       "      <td>1.249612</td>\n",
       "      <td>2</td>\n",
       "      <td>no stress</td>\n",
       "    </tr>\n",
       "  </tbody>\n",
       "</table>\n",
       "<p>5 rows × 37 columns</p>\n",
       "</div>"
      ],
      "text/plain": [
       "      MEAN_RR   MEDIAN_RR        SDRR      RMSSD       SDSD  SDRR_RMSSD  \\\n",
       "0  885.157845  853.763730  140.972741  15.554505  15.553371    9.063146   \n",
       "1  939.425371  948.357865   81.317742  12.964439  12.964195    6.272369   \n",
       "2  898.186047  907.006860   84.497236  16.305279  16.305274    5.182201   \n",
       "3  881.757865  893.460030   90.370537  15.720468  15.720068    5.748591   \n",
       "4  809.625331  811.184865   62.766242  19.213819  19.213657    3.266724   \n",
       "\n",
       "          HR      pNN25     pNN50      KURT  ...     HF_NU           TP  \\\n",
       "0  69.499952  11.133333  0.533333 -0.856554  ...  1.514737  3686.666157   \n",
       "1  64.363150   5.600000  0.000000 -0.408190  ...  0.304603  3006.487251   \n",
       "2  67.450066  13.066667  0.200000  0.351789  ...  1.049528  2685.879461   \n",
       "3  68.809562  11.800000  0.133333 -0.504947  ...  1.775294  3434.520980   \n",
       "4  74.565728  20.200000  0.200000 -0.548408  ...  3.279993  2621.175204   \n",
       "\n",
       "        LF_HF     HF_LF        SD1         SD2    sampen    higuci  datasetId  \\\n",
       "0   65.018055  0.015380  11.001565  199.061782  2.139754  1.163485          2   \n",
       "1  327.296635  0.003055   9.170129  114.634458  2.174499  1.084711          2   \n",
       "2   94.280910  0.010607  11.533417  118.939253  2.135350  1.176315          2   \n",
       "3   55.328701  0.018074  11.119476  127.318597  2.178341  1.179688          2   \n",
       "4   29.487873  0.033912  13.590641   87.718281  2.221121  1.249612          2   \n",
       "\n",
       "      condition  \n",
       "0     no stress  \n",
       "1  interruption  \n",
       "2  interruption  \n",
       "3     no stress  \n",
       "4     no stress  \n",
       "\n",
       "[5 rows x 37 columns]"
      ]
     },
     "execution_count": 18,
     "metadata": {},
     "output_type": "execute_result"
    }
   ],
   "source": [
    "merged_features = pd.merge(time_features, frequency_features, on=['uuid'])\n",
    "merged_features_total = pd.merge(merged_features, non_linear_features, on=['uuid'])\n",
    "merged_features_total.head()"
   ]
  },
  {
   "cell_type": "code",
   "execution_count": 19,
   "metadata": {
    "ExecuteTime": {
     "end_time": "2020-12-09T19:16:47.412353Z",
     "start_time": "2020-12-09T19:16:47.399355Z"
    }
   },
   "outputs": [
    {
     "data": {
      "text/plain": [
       "(369289, 37)"
      ]
     },
     "execution_count": 19,
     "metadata": {},
     "output_type": "execute_result"
    }
   ],
   "source": [
    "merged_features_total.shape"
   ]
  },
  {
   "cell_type": "code",
   "execution_count": 20,
   "metadata": {
    "ExecuteTime": {
     "end_time": "2020-12-09T19:16:47.646352Z",
     "start_time": "2020-12-09T19:16:47.414353Z"
    }
   },
   "outputs": [
    {
     "name": "stdout",
     "output_type": "stream",
     "text": [
      "<class 'pandas.core.frame.DataFrame'>\n",
      "Int64Index: 369289 entries, 0 to 369288\n",
      "Data columns (total 37 columns):\n",
      " #   Column             Non-Null Count   Dtype  \n",
      "---  ------             --------------   -----  \n",
      " 0   MEAN_RR            369289 non-null  float64\n",
      " 1   MEDIAN_RR          369289 non-null  float64\n",
      " 2   SDRR               369289 non-null  float64\n",
      " 3   RMSSD              369289 non-null  float64\n",
      " 4   SDSD               369289 non-null  float64\n",
      " 5   SDRR_RMSSD         369289 non-null  float64\n",
      " 6   HR                 369289 non-null  float64\n",
      " 7   pNN25              369289 non-null  float64\n",
      " 8   pNN50              369289 non-null  float64\n",
      " 9   KURT               369289 non-null  float64\n",
      " 10  SKEW               369289 non-null  float64\n",
      " 11  MEAN_REL_RR        369289 non-null  float64\n",
      " 12  MEDIAN_REL_RR      369289 non-null  float64\n",
      " 13  SDRR_REL_RR        369289 non-null  float64\n",
      " 14  RMSSD_REL_RR       369289 non-null  float64\n",
      " 15  SDSD_REL_RR        369289 non-null  float64\n",
      " 16  SDRR_RMSSD_REL_RR  369289 non-null  float64\n",
      " 17  KURT_REL_RR        369289 non-null  float64\n",
      " 18  SKEW_REL_RR        369289 non-null  float64\n",
      " 19  uuid               369289 non-null  object \n",
      " 20  VLF                369289 non-null  float64\n",
      " 21  VLF_PCT            369289 non-null  float64\n",
      " 22  LF                 369289 non-null  float64\n",
      " 23  LF_PCT             369289 non-null  float64\n",
      " 24  LF_NU              369289 non-null  float64\n",
      " 25  HF                 369289 non-null  float64\n",
      " 26  HF_PCT             369289 non-null  float64\n",
      " 27  HF_NU              369289 non-null  float64\n",
      " 28  TP                 369289 non-null  float64\n",
      " 29  LF_HF              369289 non-null  float64\n",
      " 30  HF_LF              369289 non-null  float64\n",
      " 31  SD1                369289 non-null  float64\n",
      " 32  SD2                369289 non-null  float64\n",
      " 33  sampen             369289 non-null  float64\n",
      " 34  higuci             369289 non-null  float64\n",
      " 35  datasetId          369289 non-null  int64  \n",
      " 36  condition          369289 non-null  object \n",
      "dtypes: float64(34), int64(1), object(2)\n",
      "memory usage: 107.1+ MB\n"
     ]
    }
   ],
   "source": [
    "merged_features_total.info()"
   ]
  },
  {
   "cell_type": "code",
   "execution_count": 21,
   "metadata": {
    "ExecuteTime": {
     "end_time": "2020-12-09T19:16:49.327546Z",
     "start_time": "2020-12-09T19:16:47.648354Z"
    }
   },
   "outputs": [
    {
     "data": {
      "text/plain": [
       "MEAN_RR              369289\n",
       "MEDIAN_RR            106329\n",
       "SDRR                 369289\n",
       "RMSSD                369289\n",
       "SDSD                 369289\n",
       "SDRR_RMSSD           369289\n",
       "HR                   369289\n",
       "pNN25                   592\n",
       "pNN50                    83\n",
       "KURT                 369289\n",
       "SKEW                 369289\n",
       "MEAN_REL_RR          369289\n",
       "MEDIAN_REL_RR         25041\n",
       "SDRR_REL_RR          369289\n",
       "RMSSD_REL_RR         369289\n",
       "SDSD_REL_RR          369289\n",
       "SDRR_RMSSD_REL_RR    369289\n",
       "KURT_REL_RR          369289\n",
       "SKEW_REL_RR          369289\n",
       "uuid                 369289\n",
       "VLF                  369289\n",
       "VLF_PCT              369289\n",
       "LF                   369289\n",
       "LF_PCT               369289\n",
       "LF_NU                369289\n",
       "HF                   369289\n",
       "HF_PCT               369289\n",
       "HF_NU                369289\n",
       "TP                   369289\n",
       "LF_HF                369289\n",
       "HF_LF                369289\n",
       "SD1                  369289\n",
       "SD2                  369289\n",
       "sampen                82511\n",
       "higuci               369289\n",
       "datasetId                 1\n",
       "condition                 3\n",
       "dtype: int64"
      ]
     },
     "execution_count": 21,
     "metadata": {},
     "output_type": "execute_result"
    }
   ],
   "source": [
    "# Check the unique values in each column of the dataframe\n",
    "merged_features_total.nunique()"
   ]
  },
  {
   "cell_type": "code",
   "execution_count": 22,
   "metadata": {
    "ExecuteTime": {
     "end_time": "2020-12-09T19:16:49.343542Z",
     "start_time": "2020-12-09T19:16:49.332541Z"
    }
   },
   "outputs": [
    {
     "data": {
      "text/plain": [
       "Index(['MEAN_RR', 'MEDIAN_RR', 'SDRR', 'RMSSD', 'SDSD', 'SDRR_RMSSD', 'HR',\n",
       "       'pNN25', 'pNN50', 'KURT', 'SKEW', 'MEAN_REL_RR', 'MEDIAN_REL_RR',\n",
       "       'SDRR_REL_RR', 'RMSSD_REL_RR', 'SDSD_REL_RR', 'SDRR_RMSSD_REL_RR',\n",
       "       'KURT_REL_RR', 'SKEW_REL_RR', 'uuid', 'VLF', 'VLF_PCT', 'LF', 'LF_PCT',\n",
       "       'LF_NU', 'HF', 'HF_PCT', 'HF_NU', 'TP', 'LF_HF', 'HF_LF', 'SD1', 'SD2',\n",
       "       'sampen', 'higuci', 'datasetId', 'condition'],\n",
       "      dtype='object')"
      ]
     },
     "execution_count": 22,
     "metadata": {},
     "output_type": "execute_result"
    }
   ],
   "source": [
    "merged_features_total.columns"
   ]
  },
  {
   "cell_type": "code",
   "execution_count": 23,
   "metadata": {
    "ExecuteTime": {
     "end_time": "2020-12-09T19:16:54.158414Z",
     "start_time": "2020-12-09T19:16:49.348548Z"
    }
   },
   "outputs": [],
   "source": [
    "import dtale\n",
    "#dtale.show(merged_features_total)"
   ]
  },
  {
   "cell_type": "code",
   "execution_count": 24,
   "metadata": {
    "ExecuteTime": {
     "end_time": "2020-12-09T19:16:54.857927Z",
     "start_time": "2020-12-09T19:16:54.161417Z"
    }
   },
   "outputs": [],
   "source": [
    "import pandas_profiling\n",
    "#merged_features_total.profile_report()"
   ]
  },
  {
   "cell_type": "markdown",
   "metadata": {},
   "source": [
    "#### Observations from Pandas Profiling Report"
   ]
  },
  {
   "cell_type": "markdown",
   "metadata": {},
   "source": [
    " From the profiling report generated above, we can see that the combined dataset has:\n",
    " \n",
    "34 numeric variables: 'MEAN_RR', 'MEDIAN_RR', 'SDRR', 'RMSSD', 'SDSD', 'SDRR_RMSSD', 'HR',\n",
    "       'pNN25', 'pNN50', 'KURT', 'SKEW', 'MEAN_REL_RR', 'MEDIAN_REL_RR',\n",
    "       'SDRR_REL_RR', 'RMSSD_REL_RR', 'SDSD_REL_RR', 'SDRR_RMSSD_REL_RR',\n",
    "       'KURT_REL_RR', 'SKEW_REL_RR', 'VLF', 'VLF_PCT', 'LF', 'LF_PCT',\n",
    "       'LF_NU', 'HF', 'HF_PCT', 'HF_NU', 'TP', 'LF_HF', 'HF_LF', 'SD1', 'SD2',\n",
    "       'sampen' and 'higuci'\n",
    " \n",
    " 3 categorical variables: ‘uuid’, 'datasetId' and 'condition' \n",
    "\n",
    " \n",
    "datasetId has constant value \"369289\"\t\n",
    "MEDIAN_RR is highly correlated with MEAN_RR and 1 other fields\tHigh correlation\n",
    "MEAN_RR is highly correlated with MEDIAN_RR and 1 other fields\tHigh correlation\n",
    "SDSD is highly correlated with RMSSD and 2 other fields\tHigh correlation\n",
    "RMSSD is highly correlated with SDSD and 2 other fields\tHigh correlation\n",
    "SDRR_RMSSD is highly correlated with SDRR and 1 other fields\tHigh correlation\n",
    "SDRR is highly correlated with SDRR_RMSSD and 1 other fields\tHigh correlation\n",
    "HR is highly correlated with MEAN_RR and 1 other fields\tHigh correlation\n",
    "pNN25 is highly correlated with RMSSD and 3 other fields\tHigh correlation\n",
    "SDSD_REL_RR is highly correlated with RMSSD_REL_RR\tHigh correlation\n",
    "RMSSD_REL_RR is highly correlated with SDSD_REL_RR\tHigh correlation\n",
    "KURT_REL_RR is highly correlated with KURT\tHigh correlation\n",
    "KURT is highly correlated with KURT_REL_RR\tHigh correlation\n",
    "SKEW_REL_RR is highly correlated with SKEW\tHigh correlation\n",
    "SKEW is highly correlated with SKEW_REL_RR\tHigh correlation\n",
    "LF is highly correlated with pNN25\tHigh correlation\n",
    "LF_PCT is highly correlated with VLF_PCT\tHigh correlation\n",
    "VLF_PCT is highly correlated with LF_PCT\tHigh correlation\n",
    "HF_NU is highly correlated with LF_NU and 1 other fields\tHigh correlation\n",
    "LF_NU is highly correlated with HF_NU and 1 other fields\tHigh correlation\n",
    "TP is highly correlated with VLF\tHigh correlation\n",
    "VLF is highly correlated with TP\tHigh correlation\n",
    "HF_LF is highly correlated with LF_NU and 1 other fields\tHigh correlation\n",
    "SD1 is highly correlated with RMSSD and 2 other fields\tHigh correlation\n",
    "SD2 is highly correlated with SDRR and 1 other fields\tHigh correlation"
   ]
  },
  {
   "cell_type": "markdown",
   "metadata": {},
   "source": [
    "### Categorical columns"
   ]
  },
  {
   "cell_type": "code",
   "execution_count": 25,
   "metadata": {
    "ExecuteTime": {
     "end_time": "2020-12-09T19:16:55.418443Z",
     "start_time": "2020-12-09T19:16:54.860930Z"
    }
   },
   "outputs": [
    {
     "name": "stdout",
     "output_type": "stream",
     "text": [
      "Categorical Column - Condition\n",
      "no stress        200082\n",
      "interruption     105150\n",
      "time pressure     64057\n",
      "Name: condition, dtype: int64\n",
      "\n",
      "Categorical Column - uuid\n",
      "551cacff-98be-4eb7-9d45-151a399082ab    1\n",
      "b27b8191-1bf3-4654-9ea9-52c5ccfd6e66    1\n",
      "6c13a356-89c2-46ad-a89c-749b306b392a    1\n",
      "7b2d8752-9509-4581-9d66-1ef7f84dedae    1\n",
      "5989929e-541f-4945-aecf-3d0724c8117a    1\n",
      "                                       ..\n",
      "7733da3a-2fab-4daf-8043-993356658e6d    1\n",
      "7a4f4e13-593a-4cdb-aa80-159cf04a7ced    1\n",
      "5be581f5-8aae-4a47-8cd7-15cf6f47dd65    1\n",
      "a59d3035-8e3b-43c4-8d4e-4f93316570fb    1\n",
      "dce60e34-bf34-4aef-a433-504cb8c71db1    1\n",
      "Name: uuid, Length: 369289, dtype: int64\n",
      "\n",
      "Categorical Column - datasetId\n",
      "2    369289\n",
      "Name: datasetId, dtype: int64\n"
     ]
    }
   ],
   "source": [
    "# Value counts of all categorical columns\n",
    "print('Categorical Column - Condition')\n",
    "print(merged_features_total['condition'].value_counts())\n",
    "print()\n",
    "print('Categorical Column - uuid')\n",
    "print(merged_features_total['uuid'].value_counts())\n",
    "print()\n",
    "print('Categorical Column - datasetId')\n",
    "print(merged_features_total['datasetId'].value_counts())"
   ]
  },
  {
   "cell_type": "code",
   "execution_count": 26,
   "metadata": {
    "ExecuteTime": {
     "end_time": "2020-12-09T19:16:55.496444Z",
     "start_time": "2020-12-09T19:16:55.420444Z"
    }
   },
   "outputs": [],
   "source": [
    "# Drop the attribute datasetId as it seems to be the same for all the data and does not offer any additional insights into predicting the heartrate.\n",
    "merged_features_total = merged_features_total.drop('datasetId', axis=1)"
   ]
  },
  {
   "cell_type": "code",
   "execution_count": 27,
   "metadata": {
    "ExecuteTime": {
     "end_time": "2020-12-09T19:16:55.541442Z",
     "start_time": "2020-12-09T19:16:55.499446Z"
    }
   },
   "outputs": [
    {
     "data": {
      "text/plain": [
       "(369289, 36)"
      ]
     },
     "execution_count": 27,
     "metadata": {},
     "output_type": "execute_result"
    }
   ],
   "source": [
    "merged_features_total.shape"
   ]
  },
  {
   "cell_type": "code",
   "execution_count": 28,
   "metadata": {
    "ExecuteTime": {
     "end_time": "2020-12-09T19:16:55.650442Z",
     "start_time": "2020-12-09T19:16:55.543443Z"
    }
   },
   "outputs": [
    {
     "data": {
      "text/plain": [
       "<bound method DataFrame.info of             MEAN_RR    MEDIAN_RR        SDRR      RMSSD       SDSD  \\\n",
       "0        885.157845   853.763730  140.972741  15.554505  15.553371   \n",
       "1        939.425371   948.357865   81.317742  12.964439  12.964195   \n",
       "2        898.186047   907.006860   84.497236  16.305279  16.305274   \n",
       "3        881.757865   893.460030   90.370537  15.720468  15.720068   \n",
       "4        809.625331   811.184865   62.766242  19.213819  19.213657   \n",
       "...             ...          ...         ...        ...        ...   \n",
       "369284   721.396910   721.533965   36.377559   9.609941   9.609936   \n",
       "369285   984.266492   978.622945   74.918433  13.762274  13.761705   \n",
       "369286  1025.499743  1024.968400   95.309200  23.051254  23.050395   \n",
       "369287   798.123167   803.559610   78.449897  16.736686  16.736657   \n",
       "369288   814.428911   815.178790   67.697387  20.649551  20.649546   \n",
       "\n",
       "        SDRR_RMSSD         HR      pNN25     pNN50      KURT  ...    HF_PCT  \\\n",
       "0         9.063146  69.499952  11.133333  0.533333 -0.856554  ...  0.421047   \n",
       "1         6.272369  64.363150   5.600000  0.000000 -0.408190  ...  0.070133   \n",
       "2         5.182201  67.450066  13.066667  0.200000  0.351789  ...  0.512671   \n",
       "3         5.748591  68.809562  11.800000  0.133333 -0.504947  ...  0.529387   \n",
       "4         3.266724  74.565728  20.200000  0.200000 -0.548408  ...  1.839473   \n",
       "...            ...        ...        ...       ...       ...  ...       ...   \n",
       "369284    3.785409  83.384647   0.933333  0.000000  1.007321  ...  5.886975   \n",
       "369285    5.443754  61.314243   6.333333  0.200000  0.248964  ...  0.112964   \n",
       "369286    4.134664  59.028594  30.400000  2.066667 -0.429686  ...  0.098983   \n",
       "369287    4.687302  75.978628  10.000000  1.466667  0.600389  ...  1.591647   \n",
       "369288    3.278395  74.197905  23.400000  0.533333 -0.397950  ...  1.907159   \n",
       "\n",
       "            HF_NU           TP       LF_HF     HF_LF        SD1         SD2  \\\n",
       "0        1.514737  3686.666157   65.018055  0.015380  11.001565  199.061782   \n",
       "1        0.304603  3006.487251  327.296635  0.003055   9.170129  114.634458   \n",
       "2        1.049528  2685.879461   94.280910  0.010607  11.533417  118.939253   \n",
       "3        1.775294  3434.520980   55.328701  0.018074  11.119476  127.318597   \n",
       "4        3.279993  2621.175204   29.487873  0.033912  13.590641   87.718281   \n",
       "...           ...          ...         ...       ...        ...         ...   \n",
       "369284  10.880317   649.351702    8.190908  0.122087   6.797519   50.994582   \n",
       "369285   0.357547  2278.456746  278.683532  0.003588   9.734243  105.502548   \n",
       "369286   0.180070  4331.259564  554.340761  0.001804  16.304530  133.797793   \n",
       "369287   3.522995  2930.056129   27.384942  0.036516  11.838553  110.311474   \n",
       "369288   3.438658  3177.292709   28.081116  0.035611  14.606307   94.617801   \n",
       "\n",
       "          sampen    higuci     condition  \n",
       "0       2.139754  1.163485     no stress  \n",
       "1       2.174499  1.084711  interruption  \n",
       "2       2.135350  1.176315  interruption  \n",
       "3       2.178341  1.179688     no stress  \n",
       "4       2.221121  1.249612     no stress  \n",
       "...          ...       ...           ...  \n",
       "369284  2.096850  1.314910     no stress  \n",
       "369285  2.131264  1.175975     no stress  \n",
       "369286  2.215643  1.140232     no stress  \n",
       "369287  2.091628  1.181937     no stress  \n",
       "369288  2.208193  1.234087     no stress  \n",
       "\n",
       "[369289 rows x 36 columns]>"
      ]
     },
     "execution_count": 28,
     "metadata": {},
     "output_type": "execute_result"
    }
   ],
   "source": [
    "merged_features_total.info"
   ]
  },
  {
   "cell_type": "code",
   "execution_count": 29,
   "metadata": {
    "ExecuteTime": {
     "end_time": "2020-12-09T19:16:55.990442Z",
     "start_time": "2020-12-09T19:16:55.652444Z"
    }
   },
   "outputs": [
    {
     "data": {
      "text/html": [
       "<div>\n",
       "<style scoped>\n",
       "    .dataframe tbody tr th:only-of-type {\n",
       "        vertical-align: middle;\n",
       "    }\n",
       "\n",
       "    .dataframe tbody tr th {\n",
       "        vertical-align: top;\n",
       "    }\n",
       "\n",
       "    .dataframe thead th {\n",
       "        text-align: right;\n",
       "    }\n",
       "</style>\n",
       "<table border=\"1\" class=\"dataframe\">\n",
       "  <thead>\n",
       "    <tr style=\"text-align: right;\">\n",
       "      <th></th>\n",
       "      <th>MEAN_RR</th>\n",
       "      <th>MEDIAN_RR</th>\n",
       "      <th>SDRR</th>\n",
       "      <th>RMSSD</th>\n",
       "      <th>SDSD</th>\n",
       "      <th>SDRR_RMSSD</th>\n",
       "      <th>HR</th>\n",
       "      <th>pNN25</th>\n",
       "      <th>pNN50</th>\n",
       "      <th>KURT</th>\n",
       "      <th>...</th>\n",
       "      <th>TP</th>\n",
       "      <th>LF_HF</th>\n",
       "      <th>HF_LF</th>\n",
       "      <th>SD1</th>\n",
       "      <th>SD2</th>\n",
       "      <th>sampen</th>\n",
       "      <th>higuci</th>\n",
       "      <th>condition_interruption</th>\n",
       "      <th>condition_no stress</th>\n",
       "      <th>condition_time pressure</th>\n",
       "    </tr>\n",
       "  </thead>\n",
       "  <tbody>\n",
       "    <tr>\n",
       "      <th>0</th>\n",
       "      <td>885.157845</td>\n",
       "      <td>853.763730</td>\n",
       "      <td>140.972741</td>\n",
       "      <td>15.554505</td>\n",
       "      <td>15.553371</td>\n",
       "      <td>9.063146</td>\n",
       "      <td>69.499952</td>\n",
       "      <td>11.133333</td>\n",
       "      <td>0.533333</td>\n",
       "      <td>-0.856554</td>\n",
       "      <td>...</td>\n",
       "      <td>3686.666157</td>\n",
       "      <td>65.018055</td>\n",
       "      <td>0.015380</td>\n",
       "      <td>11.001565</td>\n",
       "      <td>199.061782</td>\n",
       "      <td>2.139754</td>\n",
       "      <td>1.163485</td>\n",
       "      <td>0</td>\n",
       "      <td>1</td>\n",
       "      <td>0</td>\n",
       "    </tr>\n",
       "    <tr>\n",
       "      <th>1</th>\n",
       "      <td>939.425371</td>\n",
       "      <td>948.357865</td>\n",
       "      <td>81.317742</td>\n",
       "      <td>12.964439</td>\n",
       "      <td>12.964195</td>\n",
       "      <td>6.272369</td>\n",
       "      <td>64.363150</td>\n",
       "      <td>5.600000</td>\n",
       "      <td>0.000000</td>\n",
       "      <td>-0.408190</td>\n",
       "      <td>...</td>\n",
       "      <td>3006.487251</td>\n",
       "      <td>327.296635</td>\n",
       "      <td>0.003055</td>\n",
       "      <td>9.170129</td>\n",
       "      <td>114.634458</td>\n",
       "      <td>2.174499</td>\n",
       "      <td>1.084711</td>\n",
       "      <td>1</td>\n",
       "      <td>0</td>\n",
       "      <td>0</td>\n",
       "    </tr>\n",
       "    <tr>\n",
       "      <th>2</th>\n",
       "      <td>898.186047</td>\n",
       "      <td>907.006860</td>\n",
       "      <td>84.497236</td>\n",
       "      <td>16.305279</td>\n",
       "      <td>16.305274</td>\n",
       "      <td>5.182201</td>\n",
       "      <td>67.450066</td>\n",
       "      <td>13.066667</td>\n",
       "      <td>0.200000</td>\n",
       "      <td>0.351789</td>\n",
       "      <td>...</td>\n",
       "      <td>2685.879461</td>\n",
       "      <td>94.280910</td>\n",
       "      <td>0.010607</td>\n",
       "      <td>11.533417</td>\n",
       "      <td>118.939253</td>\n",
       "      <td>2.135350</td>\n",
       "      <td>1.176315</td>\n",
       "      <td>1</td>\n",
       "      <td>0</td>\n",
       "      <td>0</td>\n",
       "    </tr>\n",
       "    <tr>\n",
       "      <th>3</th>\n",
       "      <td>881.757865</td>\n",
       "      <td>893.460030</td>\n",
       "      <td>90.370537</td>\n",
       "      <td>15.720468</td>\n",
       "      <td>15.720068</td>\n",
       "      <td>5.748591</td>\n",
       "      <td>68.809562</td>\n",
       "      <td>11.800000</td>\n",
       "      <td>0.133333</td>\n",
       "      <td>-0.504947</td>\n",
       "      <td>...</td>\n",
       "      <td>3434.520980</td>\n",
       "      <td>55.328701</td>\n",
       "      <td>0.018074</td>\n",
       "      <td>11.119476</td>\n",
       "      <td>127.318597</td>\n",
       "      <td>2.178341</td>\n",
       "      <td>1.179688</td>\n",
       "      <td>0</td>\n",
       "      <td>1</td>\n",
       "      <td>0</td>\n",
       "    </tr>\n",
       "    <tr>\n",
       "      <th>4</th>\n",
       "      <td>809.625331</td>\n",
       "      <td>811.184865</td>\n",
       "      <td>62.766242</td>\n",
       "      <td>19.213819</td>\n",
       "      <td>19.213657</td>\n",
       "      <td>3.266724</td>\n",
       "      <td>74.565728</td>\n",
       "      <td>20.200000</td>\n",
       "      <td>0.200000</td>\n",
       "      <td>-0.548408</td>\n",
       "      <td>...</td>\n",
       "      <td>2621.175204</td>\n",
       "      <td>29.487873</td>\n",
       "      <td>0.033912</td>\n",
       "      <td>13.590641</td>\n",
       "      <td>87.718281</td>\n",
       "      <td>2.221121</td>\n",
       "      <td>1.249612</td>\n",
       "      <td>0</td>\n",
       "      <td>1</td>\n",
       "      <td>0</td>\n",
       "    </tr>\n",
       "    <tr>\n",
       "      <th>...</th>\n",
       "      <td>...</td>\n",
       "      <td>...</td>\n",
       "      <td>...</td>\n",
       "      <td>...</td>\n",
       "      <td>...</td>\n",
       "      <td>...</td>\n",
       "      <td>...</td>\n",
       "      <td>...</td>\n",
       "      <td>...</td>\n",
       "      <td>...</td>\n",
       "      <td>...</td>\n",
       "      <td>...</td>\n",
       "      <td>...</td>\n",
       "      <td>...</td>\n",
       "      <td>...</td>\n",
       "      <td>...</td>\n",
       "      <td>...</td>\n",
       "      <td>...</td>\n",
       "      <td>...</td>\n",
       "      <td>...</td>\n",
       "      <td>...</td>\n",
       "    </tr>\n",
       "    <tr>\n",
       "      <th>369284</th>\n",
       "      <td>721.396910</td>\n",
       "      <td>721.533965</td>\n",
       "      <td>36.377559</td>\n",
       "      <td>9.609941</td>\n",
       "      <td>9.609936</td>\n",
       "      <td>3.785409</td>\n",
       "      <td>83.384647</td>\n",
       "      <td>0.933333</td>\n",
       "      <td>0.000000</td>\n",
       "      <td>1.007321</td>\n",
       "      <td>...</td>\n",
       "      <td>649.351702</td>\n",
       "      <td>8.190908</td>\n",
       "      <td>0.122087</td>\n",
       "      <td>6.797519</td>\n",
       "      <td>50.994582</td>\n",
       "      <td>2.096850</td>\n",
       "      <td>1.314910</td>\n",
       "      <td>0</td>\n",
       "      <td>1</td>\n",
       "      <td>0</td>\n",
       "    </tr>\n",
       "    <tr>\n",
       "      <th>369285</th>\n",
       "      <td>984.266492</td>\n",
       "      <td>978.622945</td>\n",
       "      <td>74.918433</td>\n",
       "      <td>13.762274</td>\n",
       "      <td>13.761705</td>\n",
       "      <td>5.443754</td>\n",
       "      <td>61.314243</td>\n",
       "      <td>6.333333</td>\n",
       "      <td>0.200000</td>\n",
       "      <td>0.248964</td>\n",
       "      <td>...</td>\n",
       "      <td>2278.456746</td>\n",
       "      <td>278.683532</td>\n",
       "      <td>0.003588</td>\n",
       "      <td>9.734243</td>\n",
       "      <td>105.502548</td>\n",
       "      <td>2.131264</td>\n",
       "      <td>1.175975</td>\n",
       "      <td>0</td>\n",
       "      <td>1</td>\n",
       "      <td>0</td>\n",
       "    </tr>\n",
       "    <tr>\n",
       "      <th>369286</th>\n",
       "      <td>1025.499743</td>\n",
       "      <td>1024.968400</td>\n",
       "      <td>95.309200</td>\n",
       "      <td>23.051254</td>\n",
       "      <td>23.050395</td>\n",
       "      <td>4.134664</td>\n",
       "      <td>59.028594</td>\n",
       "      <td>30.400000</td>\n",
       "      <td>2.066667</td>\n",
       "      <td>-0.429686</td>\n",
       "      <td>...</td>\n",
       "      <td>4331.259564</td>\n",
       "      <td>554.340761</td>\n",
       "      <td>0.001804</td>\n",
       "      <td>16.304530</td>\n",
       "      <td>133.797793</td>\n",
       "      <td>2.215643</td>\n",
       "      <td>1.140232</td>\n",
       "      <td>0</td>\n",
       "      <td>1</td>\n",
       "      <td>0</td>\n",
       "    </tr>\n",
       "    <tr>\n",
       "      <th>369287</th>\n",
       "      <td>798.123167</td>\n",
       "      <td>803.559610</td>\n",
       "      <td>78.449897</td>\n",
       "      <td>16.736686</td>\n",
       "      <td>16.736657</td>\n",
       "      <td>4.687302</td>\n",
       "      <td>75.978628</td>\n",
       "      <td>10.000000</td>\n",
       "      <td>1.466667</td>\n",
       "      <td>0.600389</td>\n",
       "      <td>...</td>\n",
       "      <td>2930.056129</td>\n",
       "      <td>27.384942</td>\n",
       "      <td>0.036516</td>\n",
       "      <td>11.838553</td>\n",
       "      <td>110.311474</td>\n",
       "      <td>2.091628</td>\n",
       "      <td>1.181937</td>\n",
       "      <td>0</td>\n",
       "      <td>1</td>\n",
       "      <td>0</td>\n",
       "    </tr>\n",
       "    <tr>\n",
       "      <th>369288</th>\n",
       "      <td>814.428911</td>\n",
       "      <td>815.178790</td>\n",
       "      <td>67.697387</td>\n",
       "      <td>20.649551</td>\n",
       "      <td>20.649546</td>\n",
       "      <td>3.278395</td>\n",
       "      <td>74.197905</td>\n",
       "      <td>23.400000</td>\n",
       "      <td>0.533333</td>\n",
       "      <td>-0.397950</td>\n",
       "      <td>...</td>\n",
       "      <td>3177.292709</td>\n",
       "      <td>28.081116</td>\n",
       "      <td>0.035611</td>\n",
       "      <td>14.606307</td>\n",
       "      <td>94.617801</td>\n",
       "      <td>2.208193</td>\n",
       "      <td>1.234087</td>\n",
       "      <td>0</td>\n",
       "      <td>1</td>\n",
       "      <td>0</td>\n",
       "    </tr>\n",
       "  </tbody>\n",
       "</table>\n",
       "<p>369289 rows × 38 columns</p>\n",
       "</div>"
      ],
      "text/plain": [
       "            MEAN_RR    MEDIAN_RR        SDRR      RMSSD       SDSD  \\\n",
       "0        885.157845   853.763730  140.972741  15.554505  15.553371   \n",
       "1        939.425371   948.357865   81.317742  12.964439  12.964195   \n",
       "2        898.186047   907.006860   84.497236  16.305279  16.305274   \n",
       "3        881.757865   893.460030   90.370537  15.720468  15.720068   \n",
       "4        809.625331   811.184865   62.766242  19.213819  19.213657   \n",
       "...             ...          ...         ...        ...        ...   \n",
       "369284   721.396910   721.533965   36.377559   9.609941   9.609936   \n",
       "369285   984.266492   978.622945   74.918433  13.762274  13.761705   \n",
       "369286  1025.499743  1024.968400   95.309200  23.051254  23.050395   \n",
       "369287   798.123167   803.559610   78.449897  16.736686  16.736657   \n",
       "369288   814.428911   815.178790   67.697387  20.649551  20.649546   \n",
       "\n",
       "        SDRR_RMSSD         HR      pNN25     pNN50      KURT  ...  \\\n",
       "0         9.063146  69.499952  11.133333  0.533333 -0.856554  ...   \n",
       "1         6.272369  64.363150   5.600000  0.000000 -0.408190  ...   \n",
       "2         5.182201  67.450066  13.066667  0.200000  0.351789  ...   \n",
       "3         5.748591  68.809562  11.800000  0.133333 -0.504947  ...   \n",
       "4         3.266724  74.565728  20.200000  0.200000 -0.548408  ...   \n",
       "...            ...        ...        ...       ...       ...  ...   \n",
       "369284    3.785409  83.384647   0.933333  0.000000  1.007321  ...   \n",
       "369285    5.443754  61.314243   6.333333  0.200000  0.248964  ...   \n",
       "369286    4.134664  59.028594  30.400000  2.066667 -0.429686  ...   \n",
       "369287    4.687302  75.978628  10.000000  1.466667  0.600389  ...   \n",
       "369288    3.278395  74.197905  23.400000  0.533333 -0.397950  ...   \n",
       "\n",
       "                 TP       LF_HF     HF_LF        SD1         SD2    sampen  \\\n",
       "0       3686.666157   65.018055  0.015380  11.001565  199.061782  2.139754   \n",
       "1       3006.487251  327.296635  0.003055   9.170129  114.634458  2.174499   \n",
       "2       2685.879461   94.280910  0.010607  11.533417  118.939253  2.135350   \n",
       "3       3434.520980   55.328701  0.018074  11.119476  127.318597  2.178341   \n",
       "4       2621.175204   29.487873  0.033912  13.590641   87.718281  2.221121   \n",
       "...             ...         ...       ...        ...         ...       ...   \n",
       "369284   649.351702    8.190908  0.122087   6.797519   50.994582  2.096850   \n",
       "369285  2278.456746  278.683532  0.003588   9.734243  105.502548  2.131264   \n",
       "369286  4331.259564  554.340761  0.001804  16.304530  133.797793  2.215643   \n",
       "369287  2930.056129   27.384942  0.036516  11.838553  110.311474  2.091628   \n",
       "369288  3177.292709   28.081116  0.035611  14.606307   94.617801  2.208193   \n",
       "\n",
       "          higuci  condition_interruption  condition_no stress  \\\n",
       "0       1.163485                       0                    1   \n",
       "1       1.084711                       1                    0   \n",
       "2       1.176315                       1                    0   \n",
       "3       1.179688                       0                    1   \n",
       "4       1.249612                       0                    1   \n",
       "...          ...                     ...                  ...   \n",
       "369284  1.314910                       0                    1   \n",
       "369285  1.175975                       0                    1   \n",
       "369286  1.140232                       0                    1   \n",
       "369287  1.181937                       0                    1   \n",
       "369288  1.234087                       0                    1   \n",
       "\n",
       "       condition_time pressure  \n",
       "0                            0  \n",
       "1                            0  \n",
       "2                            0  \n",
       "3                            0  \n",
       "4                            0  \n",
       "...                        ...  \n",
       "369284                       0  \n",
       "369285                       0  \n",
       "369286                       0  \n",
       "369287                       0  \n",
       "369288                       0  \n",
       "\n",
       "[369289 rows x 38 columns]"
      ]
     },
     "execution_count": 29,
     "metadata": {},
     "output_type": "execute_result"
    }
   ],
   "source": [
    "# Convert categorical variable into dummy/indicator variables using One hot encoding.\n",
    "merged_features_total = pd.get_dummies(merged_features_total, columns=['condition'])\n",
    "merged_features_total"
   ]
  },
  {
   "cell_type": "code",
   "execution_count": 30,
   "metadata": {
    "ExecuteTime": {
     "end_time": "2020-12-09T19:16:57.266442Z",
     "start_time": "2020-12-09T19:16:56.001445Z"
    }
   },
   "outputs": [
    {
     "data": {
      "text/html": [
       "<div>\n",
       "<style scoped>\n",
       "    .dataframe tbody tr th:only-of-type {\n",
       "        vertical-align: middle;\n",
       "    }\n",
       "\n",
       "    .dataframe tbody tr th {\n",
       "        vertical-align: top;\n",
       "    }\n",
       "\n",
       "    .dataframe thead th {\n",
       "        text-align: right;\n",
       "    }\n",
       "</style>\n",
       "<table border=\"1\" class=\"dataframe\">\n",
       "  <thead>\n",
       "    <tr style=\"text-align: right;\">\n",
       "      <th></th>\n",
       "      <th>count</th>\n",
       "      <th>mean</th>\n",
       "      <th>std</th>\n",
       "      <th>min</th>\n",
       "      <th>25%</th>\n",
       "      <th>50%</th>\n",
       "      <th>75%</th>\n",
       "      <th>max</th>\n",
       "    </tr>\n",
       "  </thead>\n",
       "  <tbody>\n",
       "    <tr>\n",
       "      <th>MEAN_RR</th>\n",
       "      <td>369289.0</td>\n",
       "      <td>846.650104</td>\n",
       "      <td>124.603984</td>\n",
       "      <td>547.492221</td>\n",
       "      <td>760.228533</td>\n",
       "      <td>8.229514e+02</td>\n",
       "      <td>924.117422</td>\n",
       "      <td>1322.016957</td>\n",
       "    </tr>\n",
       "    <tr>\n",
       "      <th>MEDIAN_RR</th>\n",
       "      <td>369289.0</td>\n",
       "      <td>841.965890</td>\n",
       "      <td>132.321005</td>\n",
       "      <td>517.293295</td>\n",
       "      <td>755.750735</td>\n",
       "      <td>8.196896e+02</td>\n",
       "      <td>916.821570</td>\n",
       "      <td>1653.122250</td>\n",
       "    </tr>\n",
       "    <tr>\n",
       "      <th>SDRR</th>\n",
       "      <td>369289.0</td>\n",
       "      <td>109.352531</td>\n",
       "      <td>77.117025</td>\n",
       "      <td>27.233947</td>\n",
       "      <td>64.205641</td>\n",
       "      <td>8.260824e+01</td>\n",
       "      <td>118.237002</td>\n",
       "      <td>563.486949</td>\n",
       "    </tr>\n",
       "    <tr>\n",
       "      <th>RMSSD</th>\n",
       "      <td>369289.0</td>\n",
       "      <td>14.977498</td>\n",
       "      <td>4.120766</td>\n",
       "      <td>5.529742</td>\n",
       "      <td>11.830959</td>\n",
       "      <td>1.441592e+01</td>\n",
       "      <td>17.927144</td>\n",
       "      <td>26.629477</td>\n",
       "    </tr>\n",
       "    <tr>\n",
       "      <th>SDSD</th>\n",
       "      <td>369289.0</td>\n",
       "      <td>14.976767</td>\n",
       "      <td>4.120768</td>\n",
       "      <td>5.529630</td>\n",
       "      <td>11.830671</td>\n",
       "      <td>1.441539e+01</td>\n",
       "      <td>17.924839</td>\n",
       "      <td>26.629392</td>\n",
       "    </tr>\n",
       "    <tr>\n",
       "      <th>SDRR_RMSSD</th>\n",
       "      <td>369289.0</td>\n",
       "      <td>7.396597</td>\n",
       "      <td>5.143834</td>\n",
       "      <td>2.660381</td>\n",
       "      <td>4.541896</td>\n",
       "      <td>5.952112e+00</td>\n",
       "      <td>7.919841</td>\n",
       "      <td>54.523950</td>\n",
       "    </tr>\n",
       "    <tr>\n",
       "      <th>HR</th>\n",
       "      <td>369289.0</td>\n",
       "      <td>73.941824</td>\n",
       "      <td>10.337453</td>\n",
       "      <td>48.737243</td>\n",
       "      <td>66.715776</td>\n",
       "      <td>7.421781e+01</td>\n",
       "      <td>80.334937</td>\n",
       "      <td>113.752309</td>\n",
       "    </tr>\n",
       "    <tr>\n",
       "      <th>pNN25</th>\n",
       "      <td>369289.0</td>\n",
       "      <td>9.841143</td>\n",
       "      <td>8.195574</td>\n",
       "      <td>0.000000</td>\n",
       "      <td>3.666667</td>\n",
       "      <td>7.600000e+00</td>\n",
       "      <td>13.333333</td>\n",
       "      <td>39.400000</td>\n",
       "    </tr>\n",
       "    <tr>\n",
       "      <th>pNN50</th>\n",
       "      <td>369289.0</td>\n",
       "      <td>0.866001</td>\n",
       "      <td>0.990189</td>\n",
       "      <td>0.000000</td>\n",
       "      <td>0.000000</td>\n",
       "      <td>4.666667e-01</td>\n",
       "      <td>1.466667</td>\n",
       "      <td>5.466667</td>\n",
       "    </tr>\n",
       "    <tr>\n",
       "      <th>KURT</th>\n",
       "      <td>369289.0</td>\n",
       "      <td>0.523235</td>\n",
       "      <td>1.790348</td>\n",
       "      <td>-1.894820</td>\n",
       "      <td>-0.352783</td>\n",
       "      <td>4.073622e-02</td>\n",
       "      <td>0.722833</td>\n",
       "      <td>64.088107</td>\n",
       "    </tr>\n",
       "    <tr>\n",
       "      <th>SKEW</th>\n",
       "      <td>369289.0</td>\n",
       "      <td>0.041628</td>\n",
       "      <td>0.699522</td>\n",
       "      <td>-2.136278</td>\n",
       "      <td>-0.359291</td>\n",
       "      <td>-6.096592e-02</td>\n",
       "      <td>0.282417</td>\n",
       "      <td>6.777800</td>\n",
       "    </tr>\n",
       "    <tr>\n",
       "      <th>MEAN_REL_RR</th>\n",
       "      <td>369289.0</td>\n",
       "      <td>-0.000002</td>\n",
       "      <td>0.000163</td>\n",
       "      <td>-0.001234</td>\n",
       "      <td>-0.000073</td>\n",
       "      <td>-9.330777e-07</td>\n",
       "      <td>0.000069</td>\n",
       "      <td>0.001244</td>\n",
       "    </tr>\n",
       "    <tr>\n",
       "      <th>MEDIAN_REL_RR</th>\n",
       "      <td>369289.0</td>\n",
       "      <td>-0.000465</td>\n",
       "      <td>0.000868</td>\n",
       "      <td>-0.004425</td>\n",
       "      <td>-0.000917</td>\n",
       "      <td>-3.116067e-04</td>\n",
       "      <td>0.000131</td>\n",
       "      <td>0.002095</td>\n",
       "    </tr>\n",
       "    <tr>\n",
       "      <th>SDRR_REL_RR</th>\n",
       "      <td>369289.0</td>\n",
       "      <td>0.018571</td>\n",
       "      <td>0.005455</td>\n",
       "      <td>0.008987</td>\n",
       "      <td>0.014261</td>\n",
       "      <td>1.731795e-02</td>\n",
       "      <td>0.021827</td>\n",
       "      <td>0.036571</td>\n",
       "    </tr>\n",
       "    <tr>\n",
       "      <th>RMSSD_REL_RR</th>\n",
       "      <td>369289.0</td>\n",
       "      <td>0.009701</td>\n",
       "      <td>0.003897</td>\n",
       "      <td>0.003220</td>\n",
       "      <td>0.006984</td>\n",
       "      <td>8.690833e-03</td>\n",
       "      <td>0.011460</td>\n",
       "      <td>0.026955</td>\n",
       "    </tr>\n",
       "    <tr>\n",
       "      <th>SDSD_REL_RR</th>\n",
       "      <td>369289.0</td>\n",
       "      <td>0.009701</td>\n",
       "      <td>0.003897</td>\n",
       "      <td>0.003220</td>\n",
       "      <td>0.006984</td>\n",
       "      <td>8.690797e-03</td>\n",
       "      <td>0.011460</td>\n",
       "      <td>0.026955</td>\n",
       "    </tr>\n",
       "    <tr>\n",
       "      <th>SDRR_RMSSD_REL_RR</th>\n",
       "      <td>369289.0</td>\n",
       "      <td>2.006817</td>\n",
       "      <td>0.375845</td>\n",
       "      <td>1.169342</td>\n",
       "      <td>1.749801</td>\n",
       "      <td>1.934416e+00</td>\n",
       "      <td>2.221232</td>\n",
       "      <td>3.724134</td>\n",
       "    </tr>\n",
       "    <tr>\n",
       "      <th>KURT_REL_RR</th>\n",
       "      <td>369289.0</td>\n",
       "      <td>0.523235</td>\n",
       "      <td>1.790348</td>\n",
       "      <td>-1.894820</td>\n",
       "      <td>-0.352783</td>\n",
       "      <td>4.073622e-02</td>\n",
       "      <td>0.722833</td>\n",
       "      <td>64.088107</td>\n",
       "    </tr>\n",
       "    <tr>\n",
       "      <th>SKEW_REL_RR</th>\n",
       "      <td>369289.0</td>\n",
       "      <td>0.041628</td>\n",
       "      <td>0.699522</td>\n",
       "      <td>-2.136278</td>\n",
       "      <td>-0.359291</td>\n",
       "      <td>-6.096592e-02</td>\n",
       "      <td>0.282417</td>\n",
       "      <td>6.777800</td>\n",
       "    </tr>\n",
       "    <tr>\n",
       "      <th>VLF</th>\n",
       "      <td>369289.0</td>\n",
       "      <td>2199.580170</td>\n",
       "      <td>1815.773422</td>\n",
       "      <td>159.480176</td>\n",
       "      <td>1001.189280</td>\n",
       "      <td>1.667903e+03</td>\n",
       "      <td>2654.121052</td>\n",
       "      <td>12617.977191</td>\n",
       "    </tr>\n",
       "    <tr>\n",
       "      <th>VLF_PCT</th>\n",
       "      <td>369289.0</td>\n",
       "      <td>64.289242</td>\n",
       "      <td>16.774844</td>\n",
       "      <td>19.031219</td>\n",
       "      <td>52.909877</td>\n",
       "      <td>6.635024e+01</td>\n",
       "      <td>76.825032</td>\n",
       "      <td>97.738848</td>\n",
       "    </tr>\n",
       "    <tr>\n",
       "      <th>LF</th>\n",
       "      <td>369289.0</td>\n",
       "      <td>946.530252</td>\n",
       "      <td>574.171780</td>\n",
       "      <td>90.048557</td>\n",
       "      <td>545.449386</td>\n",
       "      <td>7.827163e+02</td>\n",
       "      <td>1201.432256</td>\n",
       "      <td>3291.548112</td>\n",
       "    </tr>\n",
       "    <tr>\n",
       "      <th>LF_PCT</th>\n",
       "      <td>369289.0</td>\n",
       "      <td>34.095182</td>\n",
       "      <td>16.040290</td>\n",
       "      <td>2.165119</td>\n",
       "      <td>22.305936</td>\n",
       "      <td>3.204703e+01</td>\n",
       "      <td>44.647115</td>\n",
       "      <td>77.928847</td>\n",
       "    </tr>\n",
       "    <tr>\n",
       "      <th>LF_NU</th>\n",
       "      <td>369289.0</td>\n",
       "      <td>95.566718</td>\n",
       "      <td>4.123365</td>\n",
       "      <td>69.879083</td>\n",
       "      <td>93.645734</td>\n",
       "      <td>9.664314e+01</td>\n",
       "      <td>98.771946</td>\n",
       "      <td>99.987175</td>\n",
       "    </tr>\n",
       "    <tr>\n",
       "      <th>HF</th>\n",
       "      <td>369289.0</td>\n",
       "      <td>39.245603</td>\n",
       "      <td>45.398869</td>\n",
       "      <td>0.061783</td>\n",
       "      <td>10.720312</td>\n",
       "      <td>2.484194e+01</td>\n",
       "      <td>45.272368</td>\n",
       "      <td>364.486936</td>\n",
       "    </tr>\n",
       "    <tr>\n",
       "      <th>HF_PCT</th>\n",
       "      <td>369289.0</td>\n",
       "      <td>1.615576</td>\n",
       "      <td>1.761073</td>\n",
       "      <td>0.002150</td>\n",
       "      <td>0.346803</td>\n",
       "      <td>1.039513e+00</td>\n",
       "      <td>2.245115</td>\n",
       "      <td>13.095664</td>\n",
       "    </tr>\n",
       "    <tr>\n",
       "      <th>HF_NU</th>\n",
       "      <td>369289.0</td>\n",
       "      <td>4.433282</td>\n",
       "      <td>4.123365</td>\n",
       "      <td>0.012825</td>\n",
       "      <td>1.228054</td>\n",
       "      <td>3.356860e+00</td>\n",
       "      <td>6.354266</td>\n",
       "      <td>30.120917</td>\n",
       "    </tr>\n",
       "    <tr>\n",
       "      <th>TP</th>\n",
       "      <td>369289.0</td>\n",
       "      <td>3185.356025</td>\n",
       "      <td>1923.227187</td>\n",
       "      <td>377.692795</td>\n",
       "      <td>1828.147788</td>\n",
       "      <td>2.796857e+03</td>\n",
       "      <td>4052.260157</td>\n",
       "      <td>13390.684098</td>\n",
       "    </tr>\n",
       "    <tr>\n",
       "      <th>LF_HF</th>\n",
       "      <td>369289.0</td>\n",
       "      <td>115.977200</td>\n",
       "      <td>360.855129</td>\n",
       "      <td>2.319952</td>\n",
       "      <td>14.737458</td>\n",
       "      <td>2.878975e+01</td>\n",
       "      <td>80.429614</td>\n",
       "      <td>7796.443096</td>\n",
       "    </tr>\n",
       "    <tr>\n",
       "      <th>HF_LF</th>\n",
       "      <td>369289.0</td>\n",
       "      <td>0.048506</td>\n",
       "      <td>0.049238</td>\n",
       "      <td>0.000128</td>\n",
       "      <td>0.012433</td>\n",
       "      <td>3.473459e-02</td>\n",
       "      <td>0.067854</td>\n",
       "      <td>0.431043</td>\n",
       "    </tr>\n",
       "    <tr>\n",
       "      <th>SD1</th>\n",
       "      <td>369289.0</td>\n",
       "      <td>10.593708</td>\n",
       "      <td>2.914795</td>\n",
       "      <td>3.911344</td>\n",
       "      <td>8.368340</td>\n",
       "      <td>1.019662e+01</td>\n",
       "      <td>12.679005</td>\n",
       "      <td>18.836107</td>\n",
       "    </tr>\n",
       "    <tr>\n",
       "      <th>SD2</th>\n",
       "      <td>369289.0</td>\n",
       "      <td>154.178997</td>\n",
       "      <td>109.170222</td>\n",
       "      <td>38.307745</td>\n",
       "      <td>90.326864</td>\n",
       "      <td>1.162211e+02</td>\n",
       "      <td>166.764850</td>\n",
       "      <td>796.852945</td>\n",
       "    </tr>\n",
       "    <tr>\n",
       "      <th>sampen</th>\n",
       "      <td>369289.0</td>\n",
       "      <td>2.062471</td>\n",
       "      <td>0.206999</td>\n",
       "      <td>0.434576</td>\n",
       "      <td>2.032977</td>\n",
       "      <td>2.134214e+00</td>\n",
       "      <td>2.181929</td>\n",
       "      <td>2.234841</td>\n",
       "    </tr>\n",
       "    <tr>\n",
       "      <th>higuci</th>\n",
       "      <td>369289.0</td>\n",
       "      <td>1.182292</td>\n",
       "      <td>0.062192</td>\n",
       "      <td>1.033984</td>\n",
       "      <td>1.139929</td>\n",
       "      <td>1.174293e+00</td>\n",
       "      <td>1.223621</td>\n",
       "      <td>1.361219</td>\n",
       "    </tr>\n",
       "    <tr>\n",
       "      <th>condition_interruption</th>\n",
       "      <td>369289.0</td>\n",
       "      <td>0.284736</td>\n",
       "      <td>0.451289</td>\n",
       "      <td>0.000000</td>\n",
       "      <td>0.000000</td>\n",
       "      <td>0.000000e+00</td>\n",
       "      <td>1.000000</td>\n",
       "      <td>1.000000</td>\n",
       "    </tr>\n",
       "    <tr>\n",
       "      <th>condition_no stress</th>\n",
       "      <td>369289.0</td>\n",
       "      <td>0.541803</td>\n",
       "      <td>0.498250</td>\n",
       "      <td>0.000000</td>\n",
       "      <td>0.000000</td>\n",
       "      <td>1.000000e+00</td>\n",
       "      <td>1.000000</td>\n",
       "      <td>1.000000</td>\n",
       "    </tr>\n",
       "    <tr>\n",
       "      <th>condition_time pressure</th>\n",
       "      <td>369289.0</td>\n",
       "      <td>0.173460</td>\n",
       "      <td>0.378645</td>\n",
       "      <td>0.000000</td>\n",
       "      <td>0.000000</td>\n",
       "      <td>0.000000e+00</td>\n",
       "      <td>0.000000</td>\n",
       "      <td>1.000000</td>\n",
       "    </tr>\n",
       "  </tbody>\n",
       "</table>\n",
       "</div>"
      ],
      "text/plain": [
       "                            count         mean          std         min  \\\n",
       "MEAN_RR                  369289.0   846.650104   124.603984  547.492221   \n",
       "MEDIAN_RR                369289.0   841.965890   132.321005  517.293295   \n",
       "SDRR                     369289.0   109.352531    77.117025   27.233947   \n",
       "RMSSD                    369289.0    14.977498     4.120766    5.529742   \n",
       "SDSD                     369289.0    14.976767     4.120768    5.529630   \n",
       "SDRR_RMSSD               369289.0     7.396597     5.143834    2.660381   \n",
       "HR                       369289.0    73.941824    10.337453   48.737243   \n",
       "pNN25                    369289.0     9.841143     8.195574    0.000000   \n",
       "pNN50                    369289.0     0.866001     0.990189    0.000000   \n",
       "KURT                     369289.0     0.523235     1.790348   -1.894820   \n",
       "SKEW                     369289.0     0.041628     0.699522   -2.136278   \n",
       "MEAN_REL_RR              369289.0    -0.000002     0.000163   -0.001234   \n",
       "MEDIAN_REL_RR            369289.0    -0.000465     0.000868   -0.004425   \n",
       "SDRR_REL_RR              369289.0     0.018571     0.005455    0.008987   \n",
       "RMSSD_REL_RR             369289.0     0.009701     0.003897    0.003220   \n",
       "SDSD_REL_RR              369289.0     0.009701     0.003897    0.003220   \n",
       "SDRR_RMSSD_REL_RR        369289.0     2.006817     0.375845    1.169342   \n",
       "KURT_REL_RR              369289.0     0.523235     1.790348   -1.894820   \n",
       "SKEW_REL_RR              369289.0     0.041628     0.699522   -2.136278   \n",
       "VLF                      369289.0  2199.580170  1815.773422  159.480176   \n",
       "VLF_PCT                  369289.0    64.289242    16.774844   19.031219   \n",
       "LF                       369289.0   946.530252   574.171780   90.048557   \n",
       "LF_PCT                   369289.0    34.095182    16.040290    2.165119   \n",
       "LF_NU                    369289.0    95.566718     4.123365   69.879083   \n",
       "HF                       369289.0    39.245603    45.398869    0.061783   \n",
       "HF_PCT                   369289.0     1.615576     1.761073    0.002150   \n",
       "HF_NU                    369289.0     4.433282     4.123365    0.012825   \n",
       "TP                       369289.0  3185.356025  1923.227187  377.692795   \n",
       "LF_HF                    369289.0   115.977200   360.855129    2.319952   \n",
       "HF_LF                    369289.0     0.048506     0.049238    0.000128   \n",
       "SD1                      369289.0    10.593708     2.914795    3.911344   \n",
       "SD2                      369289.0   154.178997   109.170222   38.307745   \n",
       "sampen                   369289.0     2.062471     0.206999    0.434576   \n",
       "higuci                   369289.0     1.182292     0.062192    1.033984   \n",
       "condition_interruption   369289.0     0.284736     0.451289    0.000000   \n",
       "condition_no stress      369289.0     0.541803     0.498250    0.000000   \n",
       "condition_time pressure  369289.0     0.173460     0.378645    0.000000   \n",
       "\n",
       "                                 25%           50%          75%           max  \n",
       "MEAN_RR                   760.228533  8.229514e+02   924.117422   1322.016957  \n",
       "MEDIAN_RR                 755.750735  8.196896e+02   916.821570   1653.122250  \n",
       "SDRR                       64.205641  8.260824e+01   118.237002    563.486949  \n",
       "RMSSD                      11.830959  1.441592e+01    17.927144     26.629477  \n",
       "SDSD                       11.830671  1.441539e+01    17.924839     26.629392  \n",
       "SDRR_RMSSD                  4.541896  5.952112e+00     7.919841     54.523950  \n",
       "HR                         66.715776  7.421781e+01    80.334937    113.752309  \n",
       "pNN25                       3.666667  7.600000e+00    13.333333     39.400000  \n",
       "pNN50                       0.000000  4.666667e-01     1.466667      5.466667  \n",
       "KURT                       -0.352783  4.073622e-02     0.722833     64.088107  \n",
       "SKEW                       -0.359291 -6.096592e-02     0.282417      6.777800  \n",
       "MEAN_REL_RR                -0.000073 -9.330777e-07     0.000069      0.001244  \n",
       "MEDIAN_REL_RR              -0.000917 -3.116067e-04     0.000131      0.002095  \n",
       "SDRR_REL_RR                 0.014261  1.731795e-02     0.021827      0.036571  \n",
       "RMSSD_REL_RR                0.006984  8.690833e-03     0.011460      0.026955  \n",
       "SDSD_REL_RR                 0.006984  8.690797e-03     0.011460      0.026955  \n",
       "SDRR_RMSSD_REL_RR           1.749801  1.934416e+00     2.221232      3.724134  \n",
       "KURT_REL_RR                -0.352783  4.073622e-02     0.722833     64.088107  \n",
       "SKEW_REL_RR                -0.359291 -6.096592e-02     0.282417      6.777800  \n",
       "VLF                      1001.189280  1.667903e+03  2654.121052  12617.977191  \n",
       "VLF_PCT                    52.909877  6.635024e+01    76.825032     97.738848  \n",
       "LF                        545.449386  7.827163e+02  1201.432256   3291.548112  \n",
       "LF_PCT                     22.305936  3.204703e+01    44.647115     77.928847  \n",
       "LF_NU                      93.645734  9.664314e+01    98.771946     99.987175  \n",
       "HF                         10.720312  2.484194e+01    45.272368    364.486936  \n",
       "HF_PCT                      0.346803  1.039513e+00     2.245115     13.095664  \n",
       "HF_NU                       1.228054  3.356860e+00     6.354266     30.120917  \n",
       "TP                       1828.147788  2.796857e+03  4052.260157  13390.684098  \n",
       "LF_HF                      14.737458  2.878975e+01    80.429614   7796.443096  \n",
       "HF_LF                       0.012433  3.473459e-02     0.067854      0.431043  \n",
       "SD1                         8.368340  1.019662e+01    12.679005     18.836107  \n",
       "SD2                        90.326864  1.162211e+02   166.764850    796.852945  \n",
       "sampen                      2.032977  2.134214e+00     2.181929      2.234841  \n",
       "higuci                      1.139929  1.174293e+00     1.223621      1.361219  \n",
       "condition_interruption      0.000000  0.000000e+00     1.000000      1.000000  \n",
       "condition_no stress         0.000000  1.000000e+00     1.000000      1.000000  \n",
       "condition_time pressure     0.000000  0.000000e+00     0.000000      1.000000  "
      ]
     },
     "execution_count": 30,
     "metadata": {},
     "output_type": "execute_result"
    }
   ],
   "source": [
    "# Lets analysze the distribution of the dependent ('HR') attribute\n",
    "merged_features_total.describe().transpose()"
   ]
  },
  {
   "cell_type": "code",
   "execution_count": 31,
   "metadata": {
    "ExecuteTime": {
     "end_time": "2020-12-09T19:16:57.281447Z",
     "start_time": "2020-12-09T19:16:57.269445Z"
    }
   },
   "outputs": [
    {
     "data": {
      "text/plain": [
       "MEAN_RR                    float64\n",
       "MEDIAN_RR                  float64\n",
       "SDRR                       float64\n",
       "RMSSD                      float64\n",
       "SDSD                       float64\n",
       "SDRR_RMSSD                 float64\n",
       "HR                         float64\n",
       "pNN25                      float64\n",
       "pNN50                      float64\n",
       "KURT                       float64\n",
       "SKEW                       float64\n",
       "MEAN_REL_RR                float64\n",
       "MEDIAN_REL_RR              float64\n",
       "SDRR_REL_RR                float64\n",
       "RMSSD_REL_RR               float64\n",
       "SDSD_REL_RR                float64\n",
       "SDRR_RMSSD_REL_RR          float64\n",
       "KURT_REL_RR                float64\n",
       "SKEW_REL_RR                float64\n",
       "uuid                        object\n",
       "VLF                        float64\n",
       "VLF_PCT                    float64\n",
       "LF                         float64\n",
       "LF_PCT                     float64\n",
       "LF_NU                      float64\n",
       "HF                         float64\n",
       "HF_PCT                     float64\n",
       "HF_NU                      float64\n",
       "TP                         float64\n",
       "LF_HF                      float64\n",
       "HF_LF                      float64\n",
       "SD1                        float64\n",
       "SD2                        float64\n",
       "sampen                     float64\n",
       "higuci                     float64\n",
       "condition_interruption       uint8\n",
       "condition_no stress          uint8\n",
       "condition_time pressure      uint8\n",
       "dtype: object"
      ]
     },
     "execution_count": 31,
     "metadata": {},
     "output_type": "execute_result"
    }
   ],
   "source": [
    "merged_features_total.dtypes"
   ]
  },
  {
   "cell_type": "code",
   "execution_count": 32,
   "metadata": {
    "ExecuteTime": {
     "end_time": "2020-12-09T19:16:57.297447Z",
     "start_time": "2020-12-09T19:16:57.283445Z"
    }
   },
   "outputs": [],
   "source": [
    "#sns.pairplot(data = features_attr,diag_kind ='kde');"
   ]
  },
  {
   "cell_type": "markdown",
   "metadata": {},
   "source": [
    "### Distribution of Target variable"
   ]
  },
  {
   "cell_type": "code",
   "execution_count": 33,
   "metadata": {
    "ExecuteTime": {
     "end_time": "2020-12-09T19:16:57.373444Z",
     "start_time": "2020-12-09T19:16:57.300445Z"
    }
   },
   "outputs": [
    {
     "data": {
      "text/plain": [
       "369289"
      ]
     },
     "execution_count": 33,
     "metadata": {},
     "output_type": "execute_result"
    }
   ],
   "source": [
    "merged_features_total.HR.nunique()"
   ]
  },
  {
   "cell_type": "code",
   "execution_count": 34,
   "metadata": {
    "ExecuteTime": {
     "end_time": "2020-12-09T19:16:57.497448Z",
     "start_time": "2020-12-09T19:16:57.376447Z"
    }
   },
   "outputs": [
    {
     "data": {
      "text/plain": [
       "74.794596    1\n",
       "77.731740    1\n",
       "82.417305    1\n",
       "84.472649    1\n",
       "81.096411    1\n",
       "            ..\n",
       "79.320918    1\n",
       "62.087438    1\n",
       "67.008122    1\n",
       "70.370847    1\n",
       "70.042347    1\n",
       "Name: HR, Length: 369289, dtype: int64"
      ]
     },
     "execution_count": 34,
     "metadata": {},
     "output_type": "execute_result"
    }
   ],
   "source": [
    "merged_features_total['HR'].value_counts()"
   ]
  },
  {
   "cell_type": "code",
   "execution_count": 35,
   "metadata": {
    "ExecuteTime": {
     "end_time": "2020-12-09T19:17:00.705442Z",
     "start_time": "2020-12-09T19:16:57.500445Z"
    }
   },
   "outputs": [
    {
     "data": {
      "image/png": "[encoded data removed]",
      "text/plain": [
       "<Figure size 576x432 with 1 Axes>"
      ]
     },
     "metadata": {
      "needs_background": "light"
     },
     "output_type": "display_data"
    }
   ],
   "source": [
    "# Plot the distribution of the target attribute\n",
    "plt.figure(figsize=(8,6))\n",
    "sns.distplot(merged_features_total['HR']);\n",
    "plt.axvline(merged_features_total['HR'].mean(), linestyle=\"dashed\", color=\"g\", label='mean', linewidth=2)\n",
    "plt.legend(loc=\"best\")\n",
    "plt.show()"
   ]
  },
  {
   "cell_type": "code",
   "execution_count": 36,
   "metadata": {
    "ExecuteTime": {
     "end_time": "2020-12-09T19:17:04.653198Z",
     "start_time": "2020-12-09T19:17:00.712445Z"
    }
   },
   "outputs": [
    {
     "data": {
      "text/plain": [
       "0"
      ]
     },
     "execution_count": 36,
     "metadata": {},
     "output_type": "execute_result"
    }
   ],
   "source": [
    "# Identify duplicates records in the data\n",
    "\n",
    "dupes = merged_features_total.duplicated()\n",
    "sum(dupes)"
   ]
  },
  {
   "cell_type": "code",
   "execution_count": 37,
   "metadata": {
    "ExecuteTime": {
     "end_time": "2020-12-09T19:17:04.823198Z",
     "start_time": "2020-12-09T19:17:04.655199Z"
    }
   },
   "outputs": [
    {
     "name": "stdout",
     "output_type": "stream",
     "text": [
      "Duplicate Rows :\n"
     ]
    },
    {
     "data": {
      "text/html": [
       "<div>\n",
       "<style scoped>\n",
       "    .dataframe tbody tr th:only-of-type {\n",
       "        vertical-align: middle;\n",
       "    }\n",
       "\n",
       "    .dataframe tbody tr th {\n",
       "        vertical-align: top;\n",
       "    }\n",
       "\n",
       "    .dataframe thead th {\n",
       "        text-align: right;\n",
       "    }\n",
       "</style>\n",
       "<table border=\"1\" class=\"dataframe\">\n",
       "  <thead>\n",
       "    <tr style=\"text-align: right;\">\n",
       "      <th></th>\n",
       "      <th>MEAN_RR</th>\n",
       "      <th>MEDIAN_RR</th>\n",
       "      <th>SDRR</th>\n",
       "      <th>RMSSD</th>\n",
       "      <th>SDSD</th>\n",
       "      <th>SDRR_RMSSD</th>\n",
       "      <th>HR</th>\n",
       "      <th>pNN25</th>\n",
       "      <th>pNN50</th>\n",
       "      <th>KURT</th>\n",
       "      <th>...</th>\n",
       "      <th>TP</th>\n",
       "      <th>LF_HF</th>\n",
       "      <th>HF_LF</th>\n",
       "      <th>SD1</th>\n",
       "      <th>SD2</th>\n",
       "      <th>sampen</th>\n",
       "      <th>higuci</th>\n",
       "      <th>condition_interruption</th>\n",
       "      <th>condition_no stress</th>\n",
       "      <th>condition_time pressure</th>\n",
       "    </tr>\n",
       "  </thead>\n",
       "  <tbody>\n",
       "  </tbody>\n",
       "</table>\n",
       "<p>0 rows × 38 columns</p>\n",
       "</div>"
      ],
      "text/plain": [
       "Empty DataFrame\n",
       "Columns: [MEAN_RR, MEDIAN_RR, SDRR, RMSSD, SDSD, SDRR_RMSSD, HR, pNN25, pNN50, KURT, SKEW, MEAN_REL_RR, MEDIAN_REL_RR, SDRR_REL_RR, RMSSD_REL_RR, SDSD_REL_RR, SDRR_RMSSD_REL_RR, KURT_REL_RR, SKEW_REL_RR, uuid, VLF, VLF_PCT, LF, LF_PCT, LF_NU, HF, HF_PCT, HF_NU, TP, LF_HF, HF_LF, SD1, SD2, sampen, higuci, condition_interruption, condition_no stress, condition_time pressure]\n",
       "Index: []\n",
       "\n",
       "[0 rows x 38 columns]"
      ]
     },
     "execution_count": 37,
     "metadata": {},
     "output_type": "execute_result"
    }
   ],
   "source": [
    "duplicates = merged_features_total[merged_features_total.duplicated('uuid')] \n",
    "print(\"Duplicate Rows :\") \n",
    "# Print the resultant Dataframe \n",
    "duplicates "
   ]
  },
  {
   "cell_type": "markdown",
   "metadata": {},
   "source": [
    "#### No duplicates found"
   ]
  },
  {
   "cell_type": "markdown",
   "metadata": {},
   "source": [
    "## Bivariate Analysis"
   ]
  },
  {
   "cell_type": "markdown",
   "metadata": {},
   "source": [
    "## Multivariate Analysis"
   ]
  },
  {
   "cell_type": "code",
   "execution_count": 38,
   "metadata": {
    "ExecuteTime": {
     "end_time": "2020-12-09T19:17:08.112229Z",
     "start_time": "2020-12-09T19:17:04.826202Z"
    }
   },
   "outputs": [
    {
     "data": {
      "image/png": "[encoded data removed]",
      "text/plain": [
       "<Figure size 2520x720 with 1 Axes>"
      ]
     },
     "metadata": {
      "needs_background": "light"
     },
     "output_type": "display_data"
    }
   ],
   "source": [
    "plt.figure(figsize = (35,10))\n",
    "merged_features_total.boxplot();"
   ]
  },
  {
   "cell_type": "code",
   "execution_count": 39,
   "metadata": {
    "ExecuteTime": {
     "end_time": "2020-12-09T19:17:08.128234Z",
     "start_time": "2020-12-09T19:17:08.114228Z"
    }
   },
   "outputs": [
    {
     "data": {
      "text/plain": [
       "Index(['MEAN_RR', 'MEDIAN_RR', 'SDRR', 'RMSSD', 'SDSD', 'SDRR_RMSSD', 'HR',\n",
       "       'pNN25', 'pNN50', 'KURT', 'SKEW', 'MEAN_REL_RR', 'MEDIAN_REL_RR',\n",
       "       'SDRR_REL_RR', 'RMSSD_REL_RR', 'SDSD_REL_RR', 'SDRR_RMSSD_REL_RR',\n",
       "       'KURT_REL_RR', 'SKEW_REL_RR', 'uuid', 'VLF', 'VLF_PCT', 'LF', 'LF_PCT',\n",
       "       'LF_NU', 'HF', 'HF_PCT', 'HF_NU', 'TP', 'LF_HF', 'HF_LF', 'SD1', 'SD2',\n",
       "       'sampen', 'higuci', 'condition_interruption', 'condition_no stress',\n",
       "       'condition_time pressure'],\n",
       "      dtype='object')"
      ]
     },
     "execution_count": 39,
     "metadata": {},
     "output_type": "execute_result"
    }
   ],
   "source": [
    "merged_features_total.columns"
   ]
  },
  {
   "cell_type": "code",
   "execution_count": 40,
   "metadata": {
    "ExecuteTime": {
     "end_time": "2020-12-09T19:17:08.175229Z",
     "start_time": "2020-12-09T19:17:08.132233Z"
    }
   },
   "outputs": [],
   "source": [
    "# Dropping the irrelevant attributes\n",
    "merged_features_new = merged_features_total.drop('uuid', axis=1)"
   ]
  },
  {
   "cell_type": "code",
   "execution_count": 41,
   "metadata": {
    "ExecuteTime": {
     "end_time": "2020-12-09T19:17:08.190231Z",
     "start_time": "2020-12-09T19:17:08.178230Z"
    }
   },
   "outputs": [
    {
     "data": {
      "text/plain": [
       "Index(['MEAN_RR', 'MEDIAN_RR', 'SDRR', 'RMSSD', 'SDSD', 'SDRR_RMSSD', 'HR',\n",
       "       'pNN25', 'pNN50', 'KURT', 'SKEW', 'MEAN_REL_RR', 'MEDIAN_REL_RR',\n",
       "       'SDRR_REL_RR', 'RMSSD_REL_RR', 'SDSD_REL_RR', 'SDRR_RMSSD_REL_RR',\n",
       "       'KURT_REL_RR', 'SKEW_REL_RR', 'VLF', 'VLF_PCT', 'LF', 'LF_PCT', 'LF_NU',\n",
       "       'HF', 'HF_PCT', 'HF_NU', 'TP', 'LF_HF', 'HF_LF', 'SD1', 'SD2', 'sampen',\n",
       "       'higuci', 'condition_interruption', 'condition_no stress',\n",
       "       'condition_time pressure'],\n",
       "      dtype='object')"
      ]
     },
     "execution_count": 41,
     "metadata": {},
     "output_type": "execute_result"
    }
   ],
   "source": [
    "merged_features_new.columns"
   ]
  },
  {
   "cell_type": "code",
   "execution_count": 42,
   "metadata": {
    "ExecuteTime": {
     "end_time": "2020-12-09T19:17:08.296225Z",
     "start_time": "2020-12-09T19:17:08.194236Z"
    }
   },
   "outputs": [],
   "source": [
    "from sklearn.preprocessing import StandardScaler\n",
    "from sklearn.model_selection import GridSearchCV\n",
    "from sklearn.pipeline import make_pipeline\n",
    "from sklearn.model_selection import train_test_split\n",
    "from sklearn.linear_model import LogisticRegression\n",
    "from sklearn.pipeline import Pipeline\n",
    "from sklearn.model_selection import RepeatedStratifiedKFold\n",
    "\n",
    "from sklearn.preprocessing import MinMaxScaler\n"
   ]
  },
  {
   "cell_type": "code",
   "execution_count": 43,
   "metadata": {
    "ExecuteTime": {
     "end_time": "2020-12-09T19:17:08.342229Z",
     "start_time": "2020-12-09T19:17:08.298228Z"
    }
   },
   "outputs": [],
   "source": [
    "X = merged_features_new.drop('HR',axis=1)\n",
    "y = merged_features_new['HR']"
   ]
  },
  {
   "cell_type": "code",
   "execution_count": 44,
   "metadata": {
    "ExecuteTime": {
     "end_time": "2020-12-09T19:17:08.357234Z",
     "start_time": "2020-12-09T19:17:08.344228Z"
    }
   },
   "outputs": [],
   "source": [
    "from sklearn.metrics import mean_absolute_error, mean_squared_error, r2_score\n",
    "from sklearn.model_selection import KFold, cross_val_score\n",
    "\n",
    "def print_model_scores(model,X_train,X_test,y_train,y_test):\n",
    "    pred = model.predict(X_test)\n",
    "    # Calculate the score of Linear Regression\n",
    "    print('Training score  :', model.score(X_train, y_train))\n",
    "    print('Testing score   :', model.score(X_test, y_test))\n",
    "    # Mean Absolute Error\n",
    "    MSE = mean_squared_error(y_test, pred)\n",
    "    RMSE = np.sqrt(MSE)\n",
    "    MAE = mean_absolute_error(y_test, pred)\n",
    "    r2 = r2_score(y_test, pred)\n",
    "    print('Mean Absolute Error:',MAE)\n",
    "    print('Mean Squared Error:',MSE)\n",
    "    print('Root Mean Squared Error:',RMSE)\n",
    "    print('r2 score',r2)\n",
    "    \n",
    "    \n"
   ]
  },
  {
   "cell_type": "code",
   "execution_count": 45,
   "metadata": {
    "ExecuteTime": {
     "end_time": "2020-12-09T19:17:08.710231Z",
     "start_time": "2020-12-09T19:17:08.360230Z"
    }
   },
   "outputs": [
    {
     "name": "stdout",
     "output_type": "stream",
     "text": [
      "Index(['MEAN_RR', 'MEDIAN_RR', 'SDRR', 'RMSSD', 'SDSD', 'SDRR_RMSSD', 'pNN25',\n",
      "       'pNN50', 'KURT', 'SKEW', 'MEAN_REL_RR', 'MEDIAN_REL_RR', 'SDRR_REL_RR',\n",
      "       'RMSSD_REL_RR', 'SDSD_REL_RR', 'SDRR_RMSSD_REL_RR', 'KURT_REL_RR',\n",
      "       'SKEW_REL_RR', 'VLF', 'VLF_PCT', 'LF', 'LF_PCT', 'LF_NU', 'HF',\n",
      "       'HF_PCT', 'HF_NU', 'TP', 'LF_HF', 'HF_LF', 'SD1', 'SD2', 'sampen',\n",
      "       'higuci', 'condition_interruption', 'condition_no stress',\n",
      "       'condition_time pressure'],\n",
      "      dtype='object')\n"
     ]
    }
   ],
   "source": [
    "X_train,X_test,y_train,y_test = train_test_split(X,y,random_state=14)\n",
    "\n",
    "print(X_train.columns)\n",
    "\n"
   ]
  },
  {
   "cell_type": "markdown",
   "metadata": {},
   "source": [
    "### Model building using Linear Regression "
   ]
  },
  {
   "cell_type": "code",
   "execution_count": 46,
   "metadata": {
    "ExecuteTime": {
     "end_time": "2020-12-09T19:17:09.843228Z",
     "start_time": "2020-12-09T19:17:08.712231Z"
    }
   },
   "outputs": [
    {
     "name": "stdout",
     "output_type": "stream",
     "text": [
      "Training score  : 0.9809786603241765\n",
      "Testing score   : 0.9807789500678459\n",
      "Mean Absolute Error: 0.9621630788489367\n",
      "Mean Squared Error: 2.0597485969403606\n",
      "Root Mean Squared Error: 1.4351824263627118\n",
      "r2 score 0.9807789500678459\n"
     ]
    }
   ],
   "source": [
    "from sklearn.linear_model import LinearRegression\n",
    "\n",
    "\n",
    "lr_pipe = Pipeline([(\"scale\", StandardScaler()),\n",
    "                 (\"lr\", LinearRegression())\n",
    "                ])\n",
    "\n",
    "\n",
    "lr_pipe.fit(X_train, y_train) \n",
    "    \n",
    "print_model_scores(lr_pipe,X_train,X_test,y_train,y_test)\n"
   ]
  },
  {
   "cell_type": "markdown",
   "metadata": {},
   "source": [
    "### Support Vector Machine"
   ]
  },
  {
   "cell_type": "code",
   "execution_count": 47,
   "metadata": {
    "ExecuteTime": {
     "end_time": "2020-12-09T19:19:30.130592Z",
     "start_time": "2020-12-09T19:17:09.845226Z"
    }
   },
   "outputs": [
    {
     "name": "stdout",
     "output_type": "stream",
     "text": [
      "Training score  : 0.977861699089795\n",
      "Testing score   : 0.9776709946960424\n",
      "Mean Absolute Error: 0.8786320763424135\n",
      "Mean Squared Error: 2.392800471787039\n",
      "Root Mean Squared Error: 1.5468679555110834\n",
      "r2 score 0.9776709946960424\n"
     ]
    }
   ],
   "source": [
    "# Import svm model\n",
    "\n",
    "from sklearn import svm\n",
    "from sklearn.svm import LinearSVR\n",
    "\n",
    "\n",
    "svr_pipe = Pipeline([(\"scale\", StandardScaler()),\n",
    "                      (\"svr\", LinearSVR())\n",
    "                    ])\n",
    "\n",
    "\n",
    "svr_pipe.fit(X_train, y_train) \n",
    "\n",
    "\n",
    "print_model_scores(svr_pipe,X_train,X_test,y_train,y_test)"
   ]
  },
  {
   "cell_type": "markdown",
   "metadata": {},
   "source": [
    "# Random Forest"
   ]
  },
  {
   "cell_type": "code",
   "execution_count": 48,
   "metadata": {
    "ExecuteTime": {
     "end_time": "2020-12-09T19:30:02.712449Z",
     "start_time": "2020-12-09T19:19:30.133595Z"
    }
   },
   "outputs": [
    {
     "name": "stdout",
     "output_type": "stream",
     "text": [
      "Training score  : 0.9999717058284809\n",
      "Testing score   : 0.9998351010750945\n",
      "Mean Absolute Error: 0.03677798209857388\n",
      "Mean Squared Error: 0.017670747977345826\n",
      "Root Mean Squared Error: 0.13293136566418712\n",
      "r2 score 0.9998351010750945\n"
     ]
    }
   ],
   "source": [
    "from sklearn.ensemble import RandomForestRegressor\n",
    "from sklearn.decomposition import PCA\n",
    "rf_pipe = Pipeline([(\"scale\", StandardScaler()),\n",
    "                 (\"reduce_dims\", PCA(n_components=0.95)),\n",
    "                 (\"rf\",  RandomForestRegressor(random_state=42))\n",
    "                ])\n",
    "\n",
    "rf_pipe.fit(X_train, y_train) \n",
    "\n",
    "print_model_scores(rf_pipe,X_train,X_test,y_train,y_test)"
   ]
  },
  {
   "cell_type": "markdown",
   "metadata": {},
   "source": [
    "# Ridge Regression"
   ]
  },
  {
   "cell_type": "code",
   "execution_count": 49,
   "metadata": {
    "ExecuteTime": {
     "end_time": "2020-12-09T19:30:02.728437Z",
     "start_time": "2020-12-09T19:30:02.717436Z"
    }
   },
   "outputs": [],
   "source": [
    "from sklearn.model_selection import RepeatedStratifiedKFold\n",
    "from sklearn.preprocessing import MinMaxScaler\n",
    "from sklearn.linear_model import LogisticRegression\n",
    "from sklearn.linear_model import Ridge\n",
    "from sklearn.pipeline import Pipeline\n",
    "from sklearn.decomposition import PCA"
   ]
  },
  {
   "cell_type": "code",
   "execution_count": 50,
   "metadata": {
    "ExecuteTime": {
     "end_time": "2020-12-09T19:30:04.365476Z",
     "start_time": "2020-12-09T19:30:02.731435Z"
    }
   },
   "outputs": [
    {
     "name": "stdout",
     "output_type": "stream",
     "text": [
      "Training score  : 0.9455848898559804\n",
      "Testing score   : 0.945444203496562\n",
      "Mean Absolute Error: 1.7466146438492152\n",
      "Mean Squared Error: 5.846258435390608\n",
      "Root Mean Squared Error: 2.4179037274859825\n",
      "r2 score 0.945444203496562\n"
     ]
    }
   ],
   "source": [
    "rr_pipe = Pipeline([(\"scale\", StandardScaler()),\n",
    "                 (\"reduce_dims\", PCA(n_components=0.95)),\n",
    "                 (\"ridge\", Ridge())\n",
    "                ])\n",
    "\n",
    "\n",
    "rr_pipe.fit(X_train, y_train) \n",
    "\n",
    "print_model_scores(rr_pipe,X_train,X_test,y_train,y_test)"
   ]
  },
  {
   "cell_type": "code",
   "execution_count": null,
   "metadata": {},
   "outputs": [],
   "source": []
  },
  {
   "cell_type": "code",
   "execution_count": null,
   "metadata": {},
   "outputs": [],
   "source": []
  },
  {
   "cell_type": "code",
   "execution_count": 51,
   "metadata": {
    "ExecuteTime": {
     "end_time": "2020-12-09T19:32:28.035488Z",
     "start_time": "2020-12-09T19:30:04.367476Z"
    }
   },
   "outputs": [
    {
     "name": "stdout",
     "output_type": "stream",
     "text": [
      "Fitting 3 folds for each of 60 candidates, totalling 180 fits\n"
     ]
    },
    {
     "name": "stderr",
     "output_type": "stream",
     "text": [
      "[Parallel(n_jobs=-1)]: Using backend LokyBackend with 8 concurrent workers.\n",
      "[Parallel(n_jobs=-1)]: Done  16 tasks      | elapsed:   20.5s\n",
      "[Parallel(n_jobs=-1)]: Done 112 tasks      | elapsed:  1.5min\n",
      "[Parallel(n_jobs=-1)]: Done 180 out of 180 | elapsed:  2.4min finished\n"
     ]
    },
    {
     "name": "stdout",
     "output_type": "stream",
     "text": [
      "Training score  : 0.9596356481633125\n",
      "Testing score   : 0.9590440627679124\n",
      "Mean Absolute Error: 1.330727215445009\n",
      "Mean Squared Error: 4.38888273782844\n",
      "Root Mean Squared Error: 2.094966046939291\n",
      "r2 score 0.9590440627679124\n"
     ]
    }
   ],
   "source": [
    "grid_rr_pipe = Pipeline([(\"scale\", StandardScaler()),\n",
    "                 (\"reduce_dims\", PCA(n_components=0.95)),\n",
    "                 (\"ridge\", Ridge())\n",
    "                ])\n",
    "\n",
    "\n",
    "param_grid = dict(reduce_dims__n_components = [0.90,0.95,0.99],\n",
    "                  ridge__alpha = np.logspace(-5, 5, 10),\n",
    "                  ridge__fit_intercept = [True, False],\n",
    "                 )\n",
    "\n",
    "grid = GridSearchCV(grid_rr_pipe, param_grid=param_grid, cv=3,verbose=3,n_jobs=-1)\n",
    "grid.fit(X_train,y_train)\n",
    "\n",
    "print_model_scores(grid,X_train,X_test,y_train,y_test)"
   ]
  },
  {
   "cell_type": "code",
   "execution_count": 52,
   "metadata": {
    "ExecuteTime": {
     "end_time": "2020-12-09T19:32:28.051493Z",
     "start_time": "2020-12-09T19:32:28.038490Z"
    }
   },
   "outputs": [],
   "source": [
    "# from sklearn.ensemble import RandomForestRegressor\n",
    "# rforest = RandomForestRegressor(random_state=42)\n",
    "# rforest = rforest.fit(X_train, y_train)\n",
    "\n",
    "# print_model_scores(rforest,X_train,X_test,y_train,y_test)"
   ]
  },
  {
   "cell_type": "code",
   "execution_count": 53,
   "metadata": {
    "ExecuteTime": {
     "end_time": "2020-12-09T19:32:28.067489Z",
     "start_time": "2020-12-09T19:32:28.054490Z"
    }
   },
   "outputs": [],
   "source": [
    "# from sklearn.ensemble import RandomForestRegressor\n",
    "# from sklearn.model_selection import RandomizedSearchCV\n",
    "# # Number of trees in random forest\n",
    "# n_estimators = [int(x) for x in np.linspace(start = 200, stop = 2000, num = 10)]\n",
    "# # Number of features to consider at every split\n",
    "# max_features = ['auto', 'sqrt']\n",
    "# # Maximum number of levels in tree\n",
    "# max_depth = [int(x) for x in np.linspace(10, 110, num = 11)]\n",
    "# max_depth.append(None)\n",
    "# # Minimum number of samples required to split a node\n",
    "# min_samples_split = [2, 5, 10]\n",
    "# # Minimum number of samples required at each leaf node\n",
    "# min_samples_leaf = [1, 2, 4]\n",
    "# # Method of selecting samples for training each tree\n",
    "# bootstrap = [True, False]\n",
    "# # Create the random grid\n",
    "# random_grid = {'n_estimators': n_estimators,\n",
    "#                'max_features': max_features,\n",
    "#                'max_depth': max_depth,\n",
    "#                'min_samples_split': min_samples_split,\n",
    "#                'min_samples_leaf': min_samples_leaf,\n",
    "#                'bootstrap': bootstrap}"
   ]
  },
  {
   "cell_type": "code",
   "execution_count": 54,
   "metadata": {
    "ExecuteTime": {
     "end_time": "2020-12-09T19:32:28.097489Z",
     "start_time": "2020-12-09T19:32:28.071493Z"
    }
   },
   "outputs": [],
   "source": [
    "# # Use the random grid to search for best hyperparameters\n",
    "# # First create the base model to tune\n",
    "# rf = RandomForestRegressor()\n",
    "# # Random search of parameters, using 3 fold cross validation, \n",
    "# # search across 100 different combinations, and use all available cores\n",
    "# rf_random = RandomizedSearchCV(estimator = rf, param_distributions = random_grid, n_iter = 100, cv = 3, verbose=2, random_state=42, n_jobs = 4)\n",
    "# # Fit the random search model\n",
    "# rf_random.fit(X_train, y_train)\n",
    "\n",
    "# print_model_scores(rf_random,X_train,X_test,y_train,y_test)"
   ]
  },
  {
   "cell_type": "markdown",
   "metadata": {},
   "source": [
    "# Test Model "
   ]
  },
  {
   "cell_type": "code",
   "execution_count": 59,
   "metadata": {
    "ExecuteTime": {
     "end_time": "2020-12-09T19:43:49.388982Z",
     "start_time": "2020-12-09T19:43:48.755981Z"
    }
   },
   "outputs": [
    {
     "data": {
      "text/html": [
       "<div>\n",
       "<style scoped>\n",
       "    .dataframe tbody tr th:only-of-type {\n",
       "        vertical-align: middle;\n",
       "    }\n",
       "\n",
       "    .dataframe tbody tr th {\n",
       "        vertical-align: top;\n",
       "    }\n",
       "\n",
       "    .dataframe thead th {\n",
       "        text-align: right;\n",
       "    }\n",
       "</style>\n",
       "<table border=\"1\" class=\"dataframe\">\n",
       "  <thead>\n",
       "    <tr style=\"text-align: right;\">\n",
       "      <th></th>\n",
       "      <th>MEAN_RR</th>\n",
       "      <th>MEDIAN_RR</th>\n",
       "      <th>SDRR</th>\n",
       "      <th>RMSSD</th>\n",
       "      <th>SDSD</th>\n",
       "      <th>SDRR_RMSSD</th>\n",
       "      <th>pNN25</th>\n",
       "      <th>pNN50</th>\n",
       "      <th>KURT</th>\n",
       "      <th>SKEW</th>\n",
       "      <th>...</th>\n",
       "      <th>HF_NU</th>\n",
       "      <th>TP</th>\n",
       "      <th>LF_HF</th>\n",
       "      <th>HF_LF</th>\n",
       "      <th>SD1</th>\n",
       "      <th>SD2</th>\n",
       "      <th>sampen</th>\n",
       "      <th>higuci</th>\n",
       "      <th>datasetId</th>\n",
       "      <th>condition</th>\n",
       "    </tr>\n",
       "  </thead>\n",
       "  <tbody>\n",
       "    <tr>\n",
       "      <th>0</th>\n",
       "      <td>934.665288</td>\n",
       "      <td>939.03173</td>\n",
       "      <td>82.139495</td>\n",
       "      <td>11.801781</td>\n",
       "      <td>11.801772</td>\n",
       "      <td>6.959924</td>\n",
       "      <td>3.933333</td>\n",
       "      <td>0.133333</td>\n",
       "      <td>-0.680262</td>\n",
       "      <td>-0.233075</td>\n",
       "      <td>...</td>\n",
       "      <td>0.521803</td>\n",
       "      <td>2442.168645</td>\n",
       "      <td>190.643094</td>\n",
       "      <td>0.005245</td>\n",
       "      <td>8.347898</td>\n",
       "      <td>115.862444</td>\n",
       "      <td>2.209659</td>\n",
       "      <td>1.100715</td>\n",
       "      <td>2</td>\n",
       "      <td>time pressure</td>\n",
       "    </tr>\n",
       "    <tr>\n",
       "      <th>1</th>\n",
       "      <td>817.062380</td>\n",
       "      <td>816.33879</td>\n",
       "      <td>55.492332</td>\n",
       "      <td>20.558810</td>\n",
       "      <td>20.558768</td>\n",
       "      <td>2.699200</td>\n",
       "      <td>24.600000</td>\n",
       "      <td>0.533333</td>\n",
       "      <td>-0.034454</td>\n",
       "      <td>-0.051689</td>\n",
       "      <td>...</td>\n",
       "      <td>2.490788</td>\n",
       "      <td>2162.409316</td>\n",
       "      <td>39.147940</td>\n",
       "      <td>0.025544</td>\n",
       "      <td>14.542096</td>\n",
       "      <td>77.118903</td>\n",
       "      <td>2.186132</td>\n",
       "      <td>1.290615</td>\n",
       "      <td>2</td>\n",
       "      <td>no stress</td>\n",
       "    </tr>\n",
       "    <tr>\n",
       "      <th>2</th>\n",
       "      <td>876.762022</td>\n",
       "      <td>894.19889</td>\n",
       "      <td>88.690820</td>\n",
       "      <td>13.853737</td>\n",
       "      <td>13.853730</td>\n",
       "      <td>6.401942</td>\n",
       "      <td>7.066667</td>\n",
       "      <td>0.533333</td>\n",
       "      <td>-0.206953</td>\n",
       "      <td>-0.589940</td>\n",
       "      <td>...</td>\n",
       "      <td>2.170614</td>\n",
       "      <td>2771.583978</td>\n",
       "      <td>45.069921</td>\n",
       "      <td>0.022188</td>\n",
       "      <td>9.799336</td>\n",
       "      <td>125.044377</td>\n",
       "      <td>2.051571</td>\n",
       "      <td>1.226663</td>\n",
       "      <td>2</td>\n",
       "      <td>no stress</td>\n",
       "    </tr>\n",
       "    <tr>\n",
       "      <th>3</th>\n",
       "      <td>1038.640693</td>\n",
       "      <td>998.91429</td>\n",
       "      <td>213.725850</td>\n",
       "      <td>16.457194</td>\n",
       "      <td>16.454801</td>\n",
       "      <td>12.986774</td>\n",
       "      <td>10.800000</td>\n",
       "      <td>1.866667</td>\n",
       "      <td>-0.820407</td>\n",
       "      <td>0.487198</td>\n",
       "      <td>...</td>\n",
       "      <td>1.182194</td>\n",
       "      <td>6357.550689</td>\n",
       "      <td>83.588517</td>\n",
       "      <td>0.011963</td>\n",
       "      <td>11.639185</td>\n",
       "      <td>302.029812</td>\n",
       "      <td>2.080910</td>\n",
       "      <td>1.085143</td>\n",
       "      <td>2</td>\n",
       "      <td>time pressure</td>\n",
       "    </tr>\n",
       "    <tr>\n",
       "      <th>4</th>\n",
       "      <td>774.548508</td>\n",
       "      <td>778.90508</td>\n",
       "      <td>51.577855</td>\n",
       "      <td>10.273114</td>\n",
       "      <td>10.273049</td>\n",
       "      <td>5.020664</td>\n",
       "      <td>2.000000</td>\n",
       "      <td>0.066667</td>\n",
       "      <td>1.738453</td>\n",
       "      <td>-0.005082</td>\n",
       "      <td>...</td>\n",
       "      <td>8.194943</td>\n",
       "      <td>1373.104689</td>\n",
       "      <td>11.202647</td>\n",
       "      <td>0.089265</td>\n",
       "      <td>7.266567</td>\n",
       "      <td>72.579248</td>\n",
       "      <td>2.068728</td>\n",
       "      <td>1.252547</td>\n",
       "      <td>2</td>\n",
       "      <td>interruption</td>\n",
       "    </tr>\n",
       "  </tbody>\n",
       "</table>\n",
       "<p>5 rows × 36 columns</p>\n",
       "</div>"
      ],
      "text/plain": [
       "       MEAN_RR  MEDIAN_RR        SDRR      RMSSD       SDSD  SDRR_RMSSD  \\\n",
       "0   934.665288  939.03173   82.139495  11.801781  11.801772    6.959924   \n",
       "1   817.062380  816.33879   55.492332  20.558810  20.558768    2.699200   \n",
       "2   876.762022  894.19889   88.690820  13.853737  13.853730    6.401942   \n",
       "3  1038.640693  998.91429  213.725850  16.457194  16.454801   12.986774   \n",
       "4   774.548508  778.90508   51.577855  10.273114  10.273049    5.020664   \n",
       "\n",
       "       pNN25     pNN50      KURT      SKEW  ...     HF_NU           TP  \\\n",
       "0   3.933333  0.133333 -0.680262 -0.233075  ...  0.521803  2442.168645   \n",
       "1  24.600000  0.533333 -0.034454 -0.051689  ...  2.490788  2162.409316   \n",
       "2   7.066667  0.533333 -0.206953 -0.589940  ...  2.170614  2771.583978   \n",
       "3  10.800000  1.866667 -0.820407  0.487198  ...  1.182194  6357.550689   \n",
       "4   2.000000  0.066667  1.738453 -0.005082  ...  8.194943  1373.104689   \n",
       "\n",
       "        LF_HF     HF_LF        SD1         SD2    sampen    higuci datasetId  \\\n",
       "0  190.643094  0.005245   8.347898  115.862444  2.209659  1.100715         2   \n",
       "1   39.147940  0.025544  14.542096   77.118903  2.186132  1.290615         2   \n",
       "2   45.069921  0.022188   9.799336  125.044377  2.051571  1.226663         2   \n",
       "3   83.588517  0.011963  11.639185  302.029812  2.080910  1.085143         2   \n",
       "4   11.202647  0.089265   7.266567   72.579248  2.068728  1.252547         2   \n",
       "\n",
       "       condition  \n",
       "0  time pressure  \n",
       "1      no stress  \n",
       "2      no stress  \n",
       "3  time pressure  \n",
       "4   interruption  \n",
       "\n",
       "[5 rows x 36 columns]"
      ]
     },
     "execution_count": 59,
     "metadata": {},
     "output_type": "execute_result"
    }
   ],
   "source": [
    "test_time_features = pd.read_csv(\"./Test Zip/time_domain_features_test.csv\")\n",
    "test_frequency_features = pd.read_csv(\"./Test Zip/frequency_domain_features_test.csv\")\n",
    "test_non_linear_features = pd.read_csv(\"./Test Zip/heart_rate_non_linear_features_test.csv\")\n",
    "\n",
    "test_merged_features = pd.merge(test_time_features, test_frequency_features, on=['uuid'])\n",
    "test_merged_features_total = pd.merge(test_merged_features, test_non_linear_features, on=['uuid'])\n",
    "test_merged_features_total.head()"
   ]
  },
  {
   "cell_type": "code",
   "execution_count": 60,
   "metadata": {
    "ExecuteTime": {
     "end_time": "2020-12-09T19:43:49.451982Z",
     "start_time": "2020-12-09T19:43:49.390982Z"
    }
   },
   "outputs": [],
   "source": [
    "# Scale/Normalize the data \n",
    "\n",
    "test_merged_features_total = pd.get_dummies(test_merged_features_total, columns=['condition'])\n",
    "X_Test_= test_merged_features_total.drop(['uuid','datasetId'], axis=1)\n",
    "\n",
    "\n",
    "\n",
    "\n",
    "\n"
   ]
  },
  {
   "cell_type": "code",
   "execution_count": 61,
   "metadata": {
    "ExecuteTime": {
     "end_time": "2020-12-09T19:43:54.563981Z",
     "start_time": "2020-12-09T19:43:51.695979Z"
    }
   },
   "outputs": [
    {
     "name": "stdout",
     "output_type": "stream",
     "text": [
      "[64.71515879 73.69528655 69.19471008 ... 61.01299723 77.40909862\n",
      " 76.62662282]\n"
     ]
    }
   ],
   "source": [
    "y_predict_ = rf_pipe.predict(X_Test_)\n",
    "print(y_predict_)\n",
    "test_merged_features_total['HR']=y_predict_\n"
   ]
  },
  {
   "cell_type": "code",
   "execution_count": 62,
   "metadata": {
    "ExecuteTime": {
     "end_time": "2020-12-09T19:43:55.744978Z",
     "start_time": "2020-12-09T19:43:55.502982Z"
    }
   },
   "outputs": [],
   "source": [
    "test_merged_features_total[['uuid','HR']].to_csv(\"result.csv\",index=False)"
   ]
  },
  {
   "cell_type": "code",
   "execution_count": null,
   "metadata": {},
   "outputs": [],
   "source": []
  }
 ],
 "metadata": {
  "kernelspec": {
   "display_name": "Python 3",
   "language": "python",
   "name": "python3"
  },
  "language_info": {
   "codemirror_mode": {
    "name": "ipython",
    "version": 3
   },
   "file_extension": ".py",
   "mimetype": "text/x-python",
   "name": "python",
   "nbconvert_exporter": "python",
   "pygments_lexer": "ipython3",
   "version": "3.6.12"
  }
 },
 "nbformat": 4,
 "nbformat_minor": 2
}
